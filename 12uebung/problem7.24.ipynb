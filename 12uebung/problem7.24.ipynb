{
 "cells": [
  {
   "cell_type": "code",
   "execution_count": 1,
   "metadata": {
    "collapsed": true
   },
   "outputs": [],
   "source": [
    "x <- c(315,101,108,32)\n",
    "n <- sum(x)"
   ]
  },
  {
   "cell_type": "markdown",
   "metadata": {},
   "source": [
    "## a)"
   ]
  },
  {
   "cell_type": "code",
   "execution_count": 2,
   "metadata": {
    "collapsed": false
   },
   "outputs": [
    {
     "data": {
      "text/plain": [
       "\n",
       "\tChi-squared test for given probabilities\n",
       "\n",
       "data:  x\n",
       "X-squared = 0.47002, df = 3, p-value = 0.9254\n"
      ]
     },
     "execution_count": 2,
     "metadata": {},
     "output_type": "execute_result"
    }
   ],
   "source": [
    "p0 <- c(9,3,3,1)/16\n",
    "chisq.test(x, p=p0)"
   ]
  },
  {
   "cell_type": "markdown",
   "metadata": {},
   "source": [
    "## b)"
   ]
  },
  {
   "cell_type": "code",
   "execution_count": 3,
   "metadata": {
    "collapsed": false
   },
   "outputs": [
    {
     "data": {
      "text/html": [
       "0.475445238998873"
      ],
      "text/latex": [
       "0.475445238998873"
      ],
      "text/markdown": [
       "0.475445238998873"
      ],
      "text/plain": [
       "[1] 0.4754452"
      ]
     },
     "execution_count": 3,
     "metadata": {},
     "output_type": "execute_result"
    },
    {
     "data": {
      "text/html": [
       "0.924251903974394"
      ],
      "text/latex": [
       "0.924251903974394"
      ],
      "text/markdown": [
       "0.924251903974394"
      ],
      "text/plain": [
       "[1] 0.9242519"
      ]
     },
     "execution_count": 3,
     "metadata": {},
     "output_type": "execute_result"
    }
   ],
   "source": [
    "L0 <- dmultinom(x, prob=p0)\n",
    "Lhat <- dmultinom(x, prob=x/n)\n",
    "(Lamb <- -2*log(L0/Lhat))\n",
    "pchisq(Lamb, df=3, lower.tail=FALSE)"
   ]
  },
  {
   "cell_type": "code",
   "execution_count": 4,
   "metadata": {
    "collapsed": false
   },
   "outputs": [
    {
     "data": {
      "text/html": [
       "0.254541374114313"
      ],
      "text/latex": [
       "0.254541374114313"
      ],
      "text/markdown": [
       "0.254541374114313"
      ],
      "text/plain": [
       "[1] 0.2545414"
      ]
     },
     "execution_count": 4,
     "metadata": {},
     "output_type": "execute_result"
    }
   ],
   "source": [
    "dchisq(0.95, df=1)"
   ]
  }
 ],
 "metadata": {
  "kernelspec": {
   "display_name": "R",
   "language": "R",
   "name": "ir"
  },
  "language_info": {
   "codemirror_mode": "r",
   "file_extension": ".r",
   "mimetype": "text/x-r-source",
   "name": "R",
   "pygments_lexer": "r",
   "version": "3.3.0"
  }
 },
 "nbformat": 4,
 "nbformat_minor": 0
}
