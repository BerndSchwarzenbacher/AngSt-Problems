{
 "cells": [
  {
   "cell_type": "code",
   "execution_count": 1,
   "metadata": {
    "collapsed": true
   },
   "outputs": [],
   "source": [
    "are <- function(eps, sc2) {\n",
    "    \"Return asymptotic relative efficiency of a contaminated normal distribution\"\n",
    "    return(2 * (1+eps*(sc2-1)) * (1 - eps + eps/sqrt(sc2))^2 / pi)\n",
    "}"
   ]
  },
  {
   "cell_type": "code",
   "execution_count": 2,
   "metadata": {
    "collapsed": false
   },
   "outputs": [
    {
     "data": {
      "text/html": [
       "<ol class=list-inline>\n",
       "\t<li>0.637</li>\n",
       "\t<li>0.833</li>\n",
       "\t<li>0.998</li>\n",
       "\t<li>1.134</li>\n",
       "</ol>\n"
      ],
      "text/latex": [
       "\\begin{enumerate*}\n",
       "\\item 0.637\n",
       "\\item 0.833\n",
       "\\item 0.998\n",
       "\\item 1.134\n",
       "\\end{enumerate*}\n"
      ],
      "text/markdown": [
       "1. 0.637\n",
       "2. 0.833\n",
       "3. 0.998\n",
       "4. 1.134\n",
       "\n",
       "\n"
      ],
      "text/plain": [
       "[1] 0.637 0.833 0.998 1.134"
      ]
     },
     "execution_count": 2,
     "metadata": {},
     "output_type": "execute_result"
    }
   ],
   "source": [
    "eps <- seq(0, 0.15, by=0.05)\n",
    "round(are(eps, 9), 3)"
   ]
  },
  {
   "cell_type": "code",
   "execution_count": 3,
   "metadata": {
    "collapsed": true
   },
   "outputs": [],
   "source": [
    "are_min_1 <- function(eps, sc2) {\n",
    "    return (are(eps, sc2) - 1)\n",
    "}"
   ]
  },
  {
   "cell_type": "code",
   "execution_count": 4,
   "metadata": {
    "collapsed": false
   },
   "outputs": [
    {
     "data": {
      "text/html": [
       "0.10059207725643"
      ],
      "text/latex": [
       "0.10059207725643"
      ],
      "text/markdown": [
       "0.10059207725643"
      ],
      "text/plain": [
       "[1] 0.1005921"
      ]
     },
     "execution_count": 4,
     "metadata": {},
     "output_type": "execute_result"
    }
   ],
   "source": [
    "uniroot(are_min_1, sc2=9, interval=c(0.1, 0.15))$root"
   ]
  }
 ],
 "metadata": {
  "kernelspec": {
   "display_name": "R",
   "language": "R",
   "name": "ir"
  },
  "language_info": {
   "codemirror_mode": "r",
   "file_extension": ".r",
   "mimetype": "text/x-r-source",
   "name": "R",
   "pygments_lexer": "r",
   "version": "3.3.0"
  }
 },
 "nbformat": 4,
 "nbformat_minor": 0
}
