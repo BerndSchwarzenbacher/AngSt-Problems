{
 "cells": [
  {
   "cell_type": "code",
   "execution_count": 1,
   "metadata": {
    "collapsed": true
   },
   "outputs": [],
   "source": [
    "xsample <- c(10, 15, 21)\n",
    "ysample <- c(20, 25, 30)"
   ]
  },
  {
   "cell_type": "code",
   "execution_count": 2,
   "metadata": {
    "collapsed": true
   },
   "outputs": [],
   "source": [
    "mean_dist <- function(x, y) {\n",
    "    return(abs(mean(x) - mean(y))) \n",
    "}"
   ]
  },
  {
   "cell_type": "code",
   "execution_count": 3,
   "metadata": {
    "collapsed": false
   },
   "outputs": [],
   "source": [
    "perm_test <- function(xspl, yspl, N=2000) {\n",
    "    nx <- length(xspl)\n",
    "    ny <- length(yspl)\n",
    "    n <- nx + ny\n",
    "\n",
    "    t0 <- mean_dist(xspl, yspl)\n",
    "    \n",
    "    combined <- c(xspl, yspl)\n",
    "    \n",
    "    z <- array(,N)\n",
    "    for (i in 1:N) {\n",
    "        spl <- sample(combined, n, replace=FALSE)\n",
    "        x <- spl[1:nx]\n",
    "        y <- spl[(nx+1):n]\n",
    "        z[i] <- mean_dist(x, y)\n",
    "    }\n",
    "    pval <- (sum(z >= t0))/N\n",
    "    return(pval)\n",
    "}"
   ]
  },
  {
   "cell_type": "code",
   "execution_count": 4,
   "metadata": {
    "collapsed": false
   },
   "outputs": [
    {
     "data": {
      "text/html": [
       "0.2025"
      ],
      "text/latex": [
       "0.2025"
      ],
      "text/markdown": [
       "0.2025"
      ],
      "text/plain": [
       "[1] 0.2025"
      ]
     },
     "execution_count": 4,
     "metadata": {},
     "output_type": "execute_result"
    }
   ],
   "source": [
    "perm_test(xsample, ysample)"
   ]
  },
  {
   "cell_type": "code",
   "execution_count": null,
   "metadata": {
    "collapsed": true
   },
   "outputs": [],
   "source": []
  }
 ],
 "metadata": {
  "kernelspec": {
   "display_name": "R",
   "language": "R",
   "name": "ir"
  },
  "language_info": {
   "codemirror_mode": "r",
   "file_extension": ".r",
   "mimetype": "text/x-r-source",
   "name": "R",
   "pygments_lexer": "r",
   "version": "3.3.0"
  }
 },
 "nbformat": 4,
 "nbformat_minor": 0
}
