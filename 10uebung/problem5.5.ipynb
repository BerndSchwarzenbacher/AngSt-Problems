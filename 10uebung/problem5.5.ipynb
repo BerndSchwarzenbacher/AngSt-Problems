{
 "cells": [
  {
   "cell_type": "code",
   "execution_count": 1,
   "metadata": {
    "collapsed": true
   },
   "outputs": [],
   "source": [
    "x <- c(0.225, 0.262, 0.217, 0.240, 0.230, 0.229, 0.235, 0.217)\n",
    "y <- c(0.209, 0.205, 0.196, 0.210, 0.202, 0.207, 0.224, 0.223, 0.220, 0.201)"
   ]
  },
  {
   "cell_type": "markdown",
   "metadata": {},
   "source": [
    "## a)"
   ]
  },
  {
   "cell_type": "code",
   "execution_count": 2,
   "metadata": {
    "collapsed": false
   },
   "outputs": [
    {
     "data": {
      "text/html": [
       "3.70355354433382"
      ],
      "text/latex": [
       "3.70355354433382"
      ],
      "text/markdown": [
       "3.70355354433382"
      ],
      "text/plain": [
       "[1] 3.703554"
      ]
     },
     "execution_count": 2,
     "metadata": {},
     "output_type": "execute_result"
    }
   ],
   "source": [
    "W <- abs(mean(x) - mean(y)) / sqrt(var(x)/length(x) + var(y)/length(y))\n",
    "W"
   ]
  },
  {
   "cell_type": "code",
   "execution_count": 3,
   "metadata": {
    "collapsed": false
   },
   "outputs": [
    {
     "data": {
      "text/html": [
       "1.95996398454005"
      ],
      "text/latex": [
       "1.95996398454005"
      ],
      "text/markdown": [
       "1.95996398454005"
      ],
      "text/plain": [
       "[1] 1.959964"
      ]
     },
     "execution_count": 3,
     "metadata": {},
     "output_type": "execute_result"
    }
   ],
   "source": [
    "alpha <- 0.05\n",
    "z <- qnorm(1-alpha/2)\n",
    "z"
   ]
  },
  {
   "cell_type": "markdown",
   "metadata": {},
   "source": [
    "## b)"
   ]
  },
  {
   "cell_type": "code",
   "execution_count": 4,
   "metadata": {
    "collapsed": true
   },
   "outputs": [],
   "source": [
    "mean_dist <- function(x, y) {\n",
    "    return(abs(median(x) - median(y))) \n",
    "}"
   ]
  },
  {
   "cell_type": "code",
   "execution_count": 5,
   "metadata": {
    "collapsed": true
   },
   "outputs": [],
   "source": [
    "perm_test <- function(xspl, yspl, N=2000) {\n",
    "    nx <- length(xspl)\n",
    "    ny <- length(yspl)\n",
    "    n <- nx + ny\n",
    "\n",
    "    t0 <- mean_dist(xspl, yspl)\n",
    "    \n",
    "    combined <- c(xspl, yspl)\n",
    "    \n",
    "    z <- array(,N)\n",
    "    for (i in 1:N) {\n",
    "        spl <- sample(combined, n, replace=FALSE)\n",
    "        x <- spl[1:nx]\n",
    "        y <- spl[(nx+1):n]\n",
    "        z[i] <- mean_dist(x, y)\n",
    "    }\n",
    "    pval <- (sum(z >= t0))/N\n",
    "    return(pval)\n",
    "}"
   ]
  },
  {
   "cell_type": "code",
   "execution_count": 6,
   "metadata": {
    "collapsed": false
   },
   "outputs": [
    {
     "data": {
      "text/html": [
       "7e-04"
      ],
      "text/latex": [
       "7e-04"
      ],
      "text/markdown": [
       "7e-04"
      ],
      "text/plain": [
       "[1] 7e-04"
      ]
     },
     "execution_count": 6,
     "metadata": {},
     "output_type": "execute_result"
    }
   ],
   "source": [
    "perm_test(x, y, 10000)"
   ]
  }
 ],
 "metadata": {
  "kernelspec": {
   "display_name": "R",
   "language": "R",
   "name": "ir"
  },
  "language_info": {
   "codemirror_mode": "r",
   "file_extension": ".r",
   "mimetype": "text/x-r-source",
   "name": "R",
   "pygments_lexer": "r",
   "version": "3.3.0"
  }
 },
 "nbformat": 4,
 "nbformat_minor": 0
}
