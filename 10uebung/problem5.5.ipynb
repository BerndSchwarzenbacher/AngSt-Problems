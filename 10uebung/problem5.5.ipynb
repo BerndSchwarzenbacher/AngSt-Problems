{
 "cells": [
  {
   "cell_type": "code",
   "execution_count": 1,
   "metadata": {
    "collapsed": true
   },
   "outputs": [],
   "source": [
    "x <- c(0.225, 0.262, 0.217, 0.240, 0.230, 0.229, 0.235, 0.217)\n",
    "y <- c(0.209, 0.205, 0.196, 0.210, 0.202, 0.207, 0.224, 0.223, 0.220, 0.201)"
   ]
  },
  {
   "cell_type": "markdown",
   "metadata": {},
   "source": [
    "## a)"
   ]
  },
  {
   "cell_type": "code",
   "execution_count": 2,
   "metadata": {
    "collapsed": false
   },
   "outputs": [],
   "source": [
    "T <- abs(mean(x) - mean(y)) / sqrt(var(x)/length(x) + var(y)/length(y))"
   ]
  },
  {
   "cell_type": "code",
   "execution_count": 3,
   "metadata": {
    "collapsed": false
   },
   "outputs": [
    {
     "data": {
      "text/plain": [
       "\n",
       "\tWelch Two Sample t-test\n",
       "\n",
       "data:  x and y\n",
       "t = 3.7036, df = 11.671, p-value = 0.003156\n",
       "alternative hypothesis: true difference in means is not equal to 0\n",
       "95 percent confidence interval:\n",
       " 0.009088475 0.035261525\n",
       "sample estimates:\n",
       "mean of x mean of y \n",
       " 0.231875  0.209700 \n"
      ]
     },
     "execution_count": 3,
     "metadata": {},
     "output_type": "execute_result"
    }
   ],
   "source": [
    "t.test(x, y, var.equal=FALSE)"
   ]
  },
  {
   "cell_type": "code",
   "execution_count": 4,
   "metadata": {
    "collapsed": true
   },
   "outputs": [],
   "source": [
    "alpha <- 0.05\n",
    "z <- qnorm(1-alpha/2)"
   ]
  },
  {
   "cell_type": "markdown",
   "metadata": {},
   "source": [
    "## b)"
   ]
  },
  {
   "cell_type": "code",
   "execution_count": 5,
   "metadata": {
    "collapsed": true
   },
   "outputs": [],
   "source": [
    "mean_dist <- function(x, y) {\n",
    "    return(abs(median(x) - median(y))) \n",
    "}"
   ]
  },
  {
   "cell_type": "code",
   "execution_count": 6,
   "metadata": {
    "collapsed": true
   },
   "outputs": [],
   "source": [
    "perm_test <- function(xspl, yspl, N=2000) {\n",
    "    nx <- length(xspl)\n",
    "    ny <- length(yspl)\n",
    "    n <- nx + ny\n",
    "\n",
    "    t0 <- mean_dist(xspl, yspl)\n",
    "    \n",
    "    combined <- c(xspl, yspl)\n",
    "    \n",
    "    z <- array(,N)\n",
    "    for (i in 1:N) {\n",
    "        spl <- sample(combined, n, replace=FALSE)\n",
    "        x <- spl[1:nx]\n",
    "        y <- spl[(nx+1):n]\n",
    "        z[i] <- mean_dist(x, y)\n",
    "    }\n",
    "    pval <- (sum(z >= t0))/N\n",
    "    return(pval)\n",
    "}"
   ]
  },
  {
   "cell_type": "code",
   "execution_count": 7,
   "metadata": {
    "collapsed": false
   },
   "outputs": [
    {
     "data": {
      "text/html": [
       "5e-04"
      ],
      "text/latex": [
       "5e-04"
      ],
      "text/markdown": [
       "5e-04"
      ],
      "text/plain": [
       "[1] 5e-04"
      ]
     },
     "execution_count": 7,
     "metadata": {},
     "output_type": "execute_result"
    }
   ],
   "source": [
    "perm_test(x, y, 10000)"
   ]
  }
 ],
 "metadata": {
  "kernelspec": {
   "display_name": "R",
   "language": "R",
   "name": "ir"
  },
  "language_info": {
   "codemirror_mode": "r",
   "file_extension": ".r",
   "mimetype": "text/x-r-source",
   "name": "R",
   "pygments_lexer": "r",
   "version": "3.3.0"
  }
 },
 "nbformat": 4,
 "nbformat_minor": 0
}
