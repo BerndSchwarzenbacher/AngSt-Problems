{
 "cells": [
  {
   "cell_type": "code",
   "execution_count": 1,
   "metadata": {
    "collapsed": true
   },
   "outputs": [],
   "source": [
    "boottest2.med <- function(x, y, B) {\n",
    "    n1 <- length(x)\n",
    "    n2 <- length(y)\n",
    "    \n",
    "    v <- median(y) - median(x)\n",
    "    z <- c(x,y)\n",
    "    \n",
    "    counter <- 0\n",
    "    teststatall <- rep(0,B)\n",
    "    \n",
    "    for(i in 1:B) {\n",
    "        xstar <- sample(z, n1, replace=TRUE)\n",
    "        ystar <- sample(z, n2, replace=TRUE)\n",
    "        vstar <- median(ystar) - median(xstar)\n",
    "        if (vstar >= v) { counter <- counter + 1 }\n",
    "        teststatall[i] <- vstar\n",
    "    }\n",
    "    pvalue <- counter/B\n",
    "    list(origtest=v, pvalue=pvalue, teststatall=teststatall)\n",
    "}"
   ]
  },
  {
   "cell_type": "code",
   "execution_count": 2,
   "metadata": {
    "collapsed": true
   },
   "outputs": [],
   "source": [
    "rcn <- function(n, eps, sigmac) {\n",
    "  ind <- rbinom(n, 1, eps)\n",
    "  x <- rnorm(n)\n",
    "  rcn <- x*(1-ind)+sigmac*x*ind\n",
    "  rcn\n",
    "}"
   ]
  },
  {
   "cell_type": "code",
   "execution_count": 3,
   "metadata": {
    "collapsed": true
   },
   "outputs": [],
   "source": [
    "w <- rcn(30, 0.20, 4)\n",
    "x <- 10 * w[1:15] + 100\n",
    "y <- 10 * w[16:30] + 120"
   ]
  },
  {
   "cell_type": "code",
   "execution_count": 4,
   "metadata": {
    "collapsed": false
   },
   "outputs": [
    {
     "data": {
      "text/html": [
       "0.013"
      ],
      "text/latex": [
       "0.013"
      ],
      "text/markdown": [
       "0.013"
      ],
      "text/plain": [
       "[1] 0.013"
      ]
     },
     "execution_count": 4,
     "metadata": {},
     "output_type": "execute_result"
    }
   ],
   "source": [
    "boottest2.med(x, y, 3000)$pvalue"
   ]
  },
  {
   "cell_type": "code",
   "execution_count": null,
   "metadata": {
    "collapsed": true
   },
   "outputs": [],
   "source": []
  }
 ],
 "metadata": {
  "kernelspec": {
   "display_name": "R",
   "language": "R",
   "name": "ir"
  },
  "language_info": {
   "codemirror_mode": "r",
   "file_extension": ".r",
   "mimetype": "text/x-r-source",
   "name": "R",
   "pygments_lexer": "r",
   "version": "3.3.0"
  }
 },
 "nbformat": 4,
 "nbformat_minor": 0
}
