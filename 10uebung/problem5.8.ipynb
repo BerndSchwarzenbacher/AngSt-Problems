{
 "cells": [
  {
   "cell_type": "code",
   "execution_count": 1,
   "metadata": {
    "collapsed": true
   },
   "outputs": [],
   "source": [
    "boottest1 <- function(x, theta0, B) {\n",
    "  n <- length(x)\n",
    "  v <- mean(x)\n",
    "  z <- x - v + theta0\n",
    "  counter <- 0\n",
    "  teststatall <- rep(0,B)\n",
    "  for (i in 1:B) {\n",
    "    xstar <- sample(z, n, replace=TRUE)\n",
    "    vstar <- mean(xstar)\n",
    "    if (vstar >= v) counter <- counter + 1\n",
    "    teststatall[i] <- vstar\n",
    "  }\n",
    "  pvalue <- counter/B\n",
    "  #list(origtest=v, pvalue=pvalue, teststatall=teststatall)\n",
    "  list(origtest=v, pvalue=pvalue)\n",
    "}"
   ]
  },
  {
   "cell_type": "code",
   "execution_count": 2,
   "metadata": {
    "collapsed": true
   },
   "outputs": [],
   "source": [
    "boottest1.twosided <- function(x, theta0, B) {\n",
    "  n <- length(x)\n",
    "  v <- mean(x)\n",
    "  z <- x - v + theta0\n",
    "  counter <- 0\n",
    "  teststatall <- rep(0,B)\n",
    "  for (i in 1:B) {\n",
    "    xstar <- sample(z, n, replace=TRUE)\n",
    "    vstar <- mean(xstar)\n",
    "    if (abs(vstar-theta0) >= abs(v-theta0)) counter <- counter + 1\n",
    "    teststatall[i] <- vstar\n",
    "  }\n",
    "  pvalue <- counter/B\n",
    "  #list(origtest=v, pvalue=pvalue, teststatall=teststatall)\n",
    "  list(origtest=v, pvalue=pvalue)\n",
    "}"
   ]
  },
  {
   "cell_type": "code",
   "execution_count": 3,
   "metadata": {
    "collapsed": true
   },
   "outputs": [],
   "source": [
    "rcn <- function(n, eps, sigmac) {\n",
    "  ind <- rbinom(n, 1, eps)\n",
    "  x <- rnorm(n)\n",
    "  rcn <- x*(1-ind)+sigmac*x*ind\n",
    "  rcn\n",
    "}"
   ]
  },
  {
   "cell_type": "code",
   "execution_count": 4,
   "metadata": {
    "collapsed": true
   },
   "outputs": [],
   "source": [
    "w <- rcn(20, 0.2, 4)\n",
    "x <- 10 * w + 100"
   ]
  },
  {
   "cell_type": "markdown",
   "metadata": {},
   "source": [
    "## a)"
   ]
  },
  {
   "cell_type": "code",
   "execution_count": 5,
   "metadata": {
    "collapsed": false
   },
   "outputs": [
    {
     "data": {
      "text/html": [
       "<dl>\n",
       "\t<dt>$origtest</dt>\n",
       "\t\t<dd>102.010082502582</dd>\n",
       "\t<dt>$pvalue</dt>\n",
       "\t\t<dd>0.0546666666666667</dd>\n",
       "</dl>\n"
      ],
      "text/latex": [
       "\\begin{description}\n",
       "\\item[\\$origtest] 102.010082502582\n",
       "\\item[\\$pvalue] 0.0546666666666667\n",
       "\\end{description}\n"
      ],
      "text/markdown": [
       "$origtest\n",
       ":   102.010082502582\n",
       "$pvalue\n",
       ":   0.0546666666666667\n",
       "\n",
       "\n"
      ],
      "text/plain": [
       "$origtest\n",
       "[1] 102.0101\n",
       "\n",
       "$pvalue\n",
       "[1] 0.05466667\n"
      ]
     },
     "execution_count": 5,
     "metadata": {},
     "output_type": "execute_result"
    }
   ],
   "source": [
    "boottest1(x, 90, 3000)"
   ]
  },
  {
   "cell_type": "markdown",
   "metadata": {},
   "source": [
    "## b)"
   ]
  },
  {
   "cell_type": "code",
   "execution_count": 6,
   "metadata": {
    "collapsed": false
   },
   "outputs": [
    {
     "data": {
      "text/plain": [
       "\n",
       "\tOne Sample t-test\n",
       "\n",
       "data:  x\n",
       "t = 1.6614, df = 19, p-value = 0.05652\n",
       "alternative hypothesis: true mean is greater than 90\n",
       "95 percent confidence interval:\n",
       " 89.51069      Inf\n",
       "sample estimates:\n",
       "mean of x \n",
       " 102.0101 \n"
      ]
     },
     "execution_count": 6,
     "metadata": {},
     "output_type": "execute_result"
    }
   ],
   "source": [
    "t.test(x, mu=90, alternative=\"greater\")"
   ]
  },
  {
   "cell_type": "markdown",
   "metadata": {},
   "source": [
    "## c)"
   ]
  },
  {
   "cell_type": "code",
   "execution_count": 7,
   "metadata": {
    "collapsed": false
   },
   "outputs": [
    {
     "data": {
      "text/html": [
       "<dl>\n",
       "\t<dt>$origtest</dt>\n",
       "\t\t<dd>102.010082502582</dd>\n",
       "\t<dt>$pvalue</dt>\n",
       "\t\t<dd>0.0786666666666667</dd>\n",
       "</dl>\n"
      ],
      "text/latex": [
       "\\begin{description}\n",
       "\\item[\\$origtest] 102.010082502582\n",
       "\\item[\\$pvalue] 0.0786666666666667\n",
       "\\end{description}\n"
      ],
      "text/markdown": [
       "$origtest\n",
       ":   102.010082502582\n",
       "$pvalue\n",
       ":   0.0786666666666667\n",
       "\n",
       "\n"
      ],
      "text/plain": [
       "$origtest\n",
       "[1] 102.0101\n",
       "\n",
       "$pvalue\n",
       "[1] 0.07866667\n"
      ]
     },
     "execution_count": 7,
     "metadata": {},
     "output_type": "execute_result"
    }
   ],
   "source": [
    "boottest1.twosided(x, 90, 3000)"
   ]
  },
  {
   "cell_type": "markdown",
   "metadata": {},
   "source": [
    "## d)"
   ]
  },
  {
   "cell_type": "code",
   "execution_count": 8,
   "metadata": {
    "collapsed": true
   },
   "outputs": [],
   "source": [
    "boottest1.med <- function(x, theta0, B) {\n",
    "  n <- length(x)\n",
    "  v <- median(x)\n",
    "  z <- x - v + theta0\n",
    "  counter <- 0\n",
    "  teststatall <- rep(0,B)\n",
    "  for (i in 1:B) {\n",
    "    xstar <- sample(z, n, replace=TRUE)\n",
    "    vstar <- median(xstar)\n",
    "    if (vstar >= v) counter <- counter + 1\n",
    "    teststatall[i] <- vstar\n",
    "  }\n",
    "  pvalue <- counter/B\n",
    "  #list(origtest=v, pvalue=pvalue, teststatall=teststatall)\n",
    "  list(origtest=v, pvalue=pvalue)\n",
    "}\n",
    "\n",
    "boottest1.med.twosided <- function(x, theta0, B) {\n",
    "  n <- length(x)\n",
    "  v <- median(x)\n",
    "  z <- x - v + theta0\n",
    "  counter <- 0\n",
    "  teststatall <- rep(0,B)\n",
    "  for (i in 1:B) {\n",
    "    xstar <- sample(z, n, replace=TRUE)\n",
    "    vstar <- median(xstar)\n",
    "    if (abs(vstar-theta0) >= abs(v-theta0)) counter <- counter + 1\n",
    "    teststatall[i] <- vstar\n",
    "  }\n",
    "  pvalue <- counter/B\n",
    "  #list(origtest=v, pvalue=pvalue, teststatall=teststatall)\n",
    "  list(origtest=v, pvalue=pvalue)\n",
    "}"
   ]
  },
  {
   "cell_type": "code",
   "execution_count": 9,
   "metadata": {
    "collapsed": false
   },
   "outputs": [
    {
     "data": {
      "text/html": [
       "<dl>\n",
       "\t<dt>$origtest</dt>\n",
       "\t\t<dd>95.8467802474429</dd>\n",
       "\t<dt>$pvalue</dt>\n",
       "\t\t<dd>0.146333333333333</dd>\n",
       "</dl>\n"
      ],
      "text/latex": [
       "\\begin{description}\n",
       "\\item[\\$origtest] 95.8467802474429\n",
       "\\item[\\$pvalue] 0.146333333333333\n",
       "\\end{description}\n"
      ],
      "text/markdown": [
       "$origtest\n",
       ":   95.8467802474429\n",
       "$pvalue\n",
       ":   0.146333333333333\n",
       "\n",
       "\n"
      ],
      "text/plain": [
       "$origtest\n",
       "[1] 95.84678\n",
       "\n",
       "$pvalue\n",
       "[1] 0.1463333\n"
      ]
     },
     "execution_count": 9,
     "metadata": {},
     "output_type": "execute_result"
    }
   ],
   "source": [
    "boottest1.med(x, 90, 3000)"
   ]
  },
  {
   "cell_type": "code",
   "execution_count": 10,
   "metadata": {
    "collapsed": false
   },
   "outputs": [
    {
     "data": {
      "text/html": [
       "<dl>\n",
       "\t<dt>$origtest</dt>\n",
       "\t\t<dd>95.8467802474429</dd>\n",
       "\t<dt>$pvalue</dt>\n",
       "\t\t<dd>0.161333333333333</dd>\n",
       "</dl>\n"
      ],
      "text/latex": [
       "\\begin{description}\n",
       "\\item[\\$origtest] 95.8467802474429\n",
       "\\item[\\$pvalue] 0.161333333333333\n",
       "\\end{description}\n"
      ],
      "text/markdown": [
       "$origtest\n",
       ":   95.8467802474429\n",
       "$pvalue\n",
       ":   0.161333333333333\n",
       "\n",
       "\n"
      ],
      "text/plain": [
       "$origtest\n",
       "[1] 95.84678\n",
       "\n",
       "$pvalue\n",
       "[1] 0.1613333\n"
      ]
     },
     "execution_count": 10,
     "metadata": {},
     "output_type": "execute_result"
    }
   ],
   "source": [
    "boottest1.med.twosided(x, 90, 3000)"
   ]
  },
  {
   "cell_type": "code",
   "execution_count": null,
   "metadata": {
    "collapsed": true
   },
   "outputs": [],
   "source": []
  }
 ],
 "metadata": {
  "kernelspec": {
   "display_name": "R",
   "language": "R",
   "name": "ir"
  },
  "language_info": {
   "codemirror_mode": "r",
   "file_extension": ".r",
   "mimetype": "text/x-r-source",
   "name": "R",
   "pygments_lexer": "r",
   "version": "3.3.0"
  }
 },
 "nbformat": 4,
 "nbformat_minor": 0
}
