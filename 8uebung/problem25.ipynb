{
 "cells": [
  {
   "cell_type": "code",
   "execution_count": 1,
   "metadata": {
    "collapsed": false
   },
   "outputs": [],
   "source": [
    "wald.test <- function (sample, lambda0, alpha) {\n",
    "    # Conduct 2-sided wald test on sample\n",
    "    # Return TRUE if H0 is discarded\n",
    "    \n",
    "    n <- length(sample)\n",
    "    sampleMean <- mean(sample)\n",
    "    sd <- sqrt(sampleMean/n)\n",
    "    z <- qnorm(1-alpha/2)\n",
    "    \n",
    "    w <- (sampleMean - lambda0)/sd\n",
    "    \n",
    "    discardH0 <- FALSE\n",
    "    if (abs(w) > z) {\n",
    "        discardH0 <- TRUE\n",
    "    }\n",
    "    \n",
    "    return(discardH0)\n",
    "}"
   ]
  },
  {
   "cell_type": "code",
   "execution_count": 2,
   "metadata": {
    "collapsed": true
   },
   "outputs": [],
   "source": [
    "l0 <- 1\n",
    "n <- 20\n",
    "alpha <- 0.05"
   ]
  },
  {
   "cell_type": "code",
   "execution_count": 3,
   "metadata": {
    "collapsed": false
   },
   "outputs": [
    {
     "data": {
      "text/html": [
       "0.05282"
      ],
      "text/latex": [
       "0.05282"
      ],
      "text/markdown": [
       "0.05282"
      ],
      "text/plain": [
       "[1] 0.05282"
      ]
     },
     "execution_count": 3,
     "metadata": {},
     "output_type": "execute_result"
    }
   ],
   "source": [
    "trials <- 100000\n",
    "discards <- 0\n",
    "for (i in 1:trials) {\n",
    "    sample <- rpois(n, l0)\n",
    "    discards <- discards + wald.test(sample, l0, alpha)\n",
    "}\n",
    "discards/trials"
   ]
  },
  {
   "cell_type": "code",
   "execution_count": null,
   "metadata": {
    "collapsed": true
   },
   "outputs": [],
   "source": []
  }
 ],
 "metadata": {
  "kernelspec": {
   "display_name": "R",
   "language": "R",
   "name": "ir"
  },
  "language_info": {
   "codemirror_mode": "r",
   "file_extension": ".r",
   "mimetype": "text/x-r-source",
   "name": "R",
   "pygments_lexer": "r",
   "version": "3.2.4"
  }
 },
 "nbformat": 4,
 "nbformat_minor": 0
}
