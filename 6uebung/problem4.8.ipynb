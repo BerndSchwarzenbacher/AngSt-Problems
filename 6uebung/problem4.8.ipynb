{
 "cells": [
  {
   "cell_type": "code",
   "execution_count": 1,
   "metadata": {
    "collapsed": false
   },
   "outputs": [
    {
     "data": {
      "text/html": [
       "<ol class=list-inline>\n",
       "\t<li>-0.427941557436343</li>\n",
       "\t<li>1.10644535582692</li>\n",
       "\t<li>1.34039435678912</li>\n",
       "\t<li>0.294523204730715</li>\n",
       "\t<li>0.0187115904027036</li>\n",
       "\t<li>0.467594295491113</li>\n",
       "\t<li>0.688993085121717</li>\n",
       "\t<li>-1.17501892889466</li>\n",
       "\t<li>-0.0823682094795584</li>\n",
       "\t<li>0.0193519484585404</li>\n",
       "</ol>\n"
      ],
      "text/latex": [
       "\\begin{enumerate*}\n",
       "\\item -0.427941557436343\n",
       "\\item 1.10644535582692\n",
       "\\item 1.34039435678912\n",
       "\\item 0.294523204730715\n",
       "\\item 0.0187115904027036\n",
       "\\item 0.467594295491113\n",
       "\\item 0.688993085121717\n",
       "\\item -1.17501892889466\n",
       "\\item -0.0823682094795584\n",
       "\\item 0.0193519484585404\n",
       "\\end{enumerate*}\n"
      ],
      "text/markdown": [
       "1. -0.427941557436343\n",
       "2. 1.10644535582692\n",
       "3. 1.34039435678912\n",
       "4. 0.294523204730715\n",
       "5. 0.0187115904027036\n",
       "6. 0.467594295491113\n",
       "7. 0.688993085121717\n",
       "8. -1.17501892889466\n",
       "9. -0.0823682094795584\n",
       "10. 0.0193519484585404\n",
       "\n",
       "\n"
      ],
      "text/plain": [
       " [1] -0.42794156  1.10644536  1.34039436  0.29452320  0.01871159  0.46759430\n",
       " [7]  0.68899309 -1.17501893 -0.08236821  0.01935195"
      ]
     },
     "execution_count": 1,
     "metadata": {},
     "output_type": "execute_result"
    }
   ],
   "source": [
    "y <- rnorm(10)\n",
    "y"
   ]
  },
  {
   "cell_type": "code",
   "execution_count": 2,
   "metadata": {
    "collapsed": false
   },
   "outputs": [
    {
     "data": {
      "text/html": [
       "<dl class=dl-horizontal>\n",
       "\t<dt>0%</dt>\n",
       "\t\t<dd>-1.17501892889466</dd>\n",
       "\t<dt>25%</dt>\n",
       "\t\t<dd>-0.0823682094795584</dd>\n",
       "\t<dt>50%</dt>\n",
       "\t\t<dd>0.0193519484585404</dd>\n",
       "\t<dt>75%</dt>\n",
       "\t\t<dd>0.688993085121717</dd>\n",
       "\t<dt>100%</dt>\n",
       "\t\t<dd>1.34039435678912</dd>\n",
       "</dl>\n"
      ],
      "text/latex": [
       "\\begin{description*}\n",
       "\\item[0%] -1.17501892889466\n",
       "\\item[25%] -0.0823682094795584\n",
       "\\item[50%] 0.0193519484585404\n",
       "\\item[75%] 0.688993085121717\n",
       "\\item[100%] 1.34039435678912\n",
       "\\end{description*}\n"
      ],
      "text/markdown": [
       "0%\n",
       ":   -1.1750189288946625%\n",
       ":   -0.082368209479558450%\n",
       ":   0.019351948458540475%\n",
       ":   0.688993085121717100%\n",
       ":   1.34039435678912\n",
       "\n"
      ],
      "text/plain": [
       "         0%         25%         50%         75%        100% \n",
       "-1.17501893 -0.08236821  0.01935195  0.68899309  1.34039436 "
      ]
     },
     "execution_count": 2,
     "metadata": {},
     "output_type": "execute_result"
    }
   ],
   "source": [
    "quantile(y, type=1)"
   ]
  },
  {
   "cell_type": "code",
   "execution_count": 3,
   "metadata": {
    "collapsed": false
   },
   "outputs": [
    {
     "data": {
      "text/html": [
       "<dl class=dl-horizontal>\n",
       "\t<dt>0%</dt>\n",
       "\t\t<dd>-1.17501892889466</dd>\n",
       "\t<dt>25%</dt>\n",
       "\t\t<dd>-0.0823682094795584</dd>\n",
       "\t<dt>50%</dt>\n",
       "\t\t<dd>0.156937576594628</dd>\n",
       "\t<dt>75%</dt>\n",
       "\t\t<dd>0.688993085121717</dd>\n",
       "\t<dt>100%</dt>\n",
       "\t\t<dd>1.34039435678912</dd>\n",
       "</dl>\n"
      ],
      "text/latex": [
       "\\begin{description*}\n",
       "\\item[0%] -1.17501892889466\n",
       "\\item[25%] -0.0823682094795584\n",
       "\\item[50%] 0.156937576594628\n",
       "\\item[75%] 0.688993085121717\n",
       "\\item[100%] 1.34039435678912\n",
       "\\end{description*}\n"
      ],
      "text/markdown": [
       "0%\n",
       ":   -1.1750189288946625%\n",
       ":   -0.082368209479558450%\n",
       ":   0.15693757659462875%\n",
       ":   0.688993085121717100%\n",
       ":   1.34039435678912\n",
       "\n"
      ],
      "text/plain": [
       "         0%         25%         50%         75%        100% \n",
       "-1.17501893 -0.08236821  0.15693758  0.68899309  1.34039436 "
      ]
     },
     "execution_count": 3,
     "metadata": {},
     "output_type": "execute_result"
    }
   ],
   "source": [
    "quantile(y, type=2)"
   ]
  },
  {
   "cell_type": "code",
   "execution_count": 4,
   "metadata": {
    "collapsed": false
   },
   "outputs": [
    {
     "data": {
      "text/html": [
       "<dl class=dl-horizontal>\n",
       "\t<dt>0%</dt>\n",
       "\t\t<dd>-1.17501892889466</dd>\n",
       "\t<dt>25%</dt>\n",
       "\t\t<dd>-0.427941557436343</dd>\n",
       "\t<dt>50%</dt>\n",
       "\t\t<dd>0.0193519484585404</dd>\n",
       "\t<dt>75%</dt>\n",
       "\t\t<dd>0.688993085121717</dd>\n",
       "\t<dt>100%</dt>\n",
       "\t\t<dd>1.34039435678912</dd>\n",
       "</dl>\n"
      ],
      "text/latex": [
       "\\begin{description*}\n",
       "\\item[0%] -1.17501892889466\n",
       "\\item[25%] -0.427941557436343\n",
       "\\item[50%] 0.0193519484585404\n",
       "\\item[75%] 0.688993085121717\n",
       "\\item[100%] 1.34039435678912\n",
       "\\end{description*}\n"
      ],
      "text/markdown": [
       "0%\n",
       ":   -1.1750189288946625%\n",
       ":   -0.42794155743634350%\n",
       ":   0.019351948458540475%\n",
       ":   0.688993085121717100%\n",
       ":   1.34039435678912\n",
       "\n"
      ],
      "text/plain": [
       "         0%         25%         50%         75%        100% \n",
       "-1.17501893 -0.42794156  0.01935195  0.68899309  1.34039436 "
      ]
     },
     "execution_count": 4,
     "metadata": {},
     "output_type": "execute_result"
    }
   ],
   "source": [
    "quantile(y, type=3)"
   ]
  },
  {
   "cell_type": "code",
   "execution_count": 5,
   "metadata": {
    "collapsed": false
   },
   "outputs": [
    {
     "data": {
      "text/html": [
       "<dl class=dl-horizontal>\n",
       "\t<dt>0%</dt>\n",
       "\t\t<dd>-1.17501892889466</dd>\n",
       "\t<dt>25%</dt>\n",
       "\t\t<dd>-0.255154883457951</dd>\n",
       "\t<dt>50%</dt>\n",
       "\t\t<dd>0.0193519484585404</dd>\n",
       "\t<dt>75%</dt>\n",
       "\t\t<dd>0.578293690306415</dd>\n",
       "\t<dt>100%</dt>\n",
       "\t\t<dd>1.34039435678912</dd>\n",
       "</dl>\n"
      ],
      "text/latex": [
       "\\begin{description*}\n",
       "\\item[0%] -1.17501892889466\n",
       "\\item[25%] -0.255154883457951\n",
       "\\item[50%] 0.0193519484585404\n",
       "\\item[75%] 0.578293690306415\n",
       "\\item[100%] 1.34039435678912\n",
       "\\end{description*}\n"
      ],
      "text/markdown": [
       "0%\n",
       ":   -1.1750189288946625%\n",
       ":   -0.25515488345795150%\n",
       ":   0.019351948458540475%\n",
       ":   0.578293690306415100%\n",
       ":   1.34039435678912\n",
       "\n"
      ],
      "text/plain": [
       "         0%         25%         50%         75%        100% \n",
       "-1.17501893 -0.25515488  0.01935195  0.57829369  1.34039436 "
      ]
     },
     "execution_count": 5,
     "metadata": {},
     "output_type": "execute_result"
    }
   ],
   "source": [
    "quantile(y, type=4)"
   ]
  },
  {
   "cell_type": "code",
   "execution_count": 6,
   "metadata": {
    "collapsed": false
   },
   "outputs": [
    {
     "data": {
      "text/html": [
       "<dl class=dl-horizontal>\n",
       "\t<dt>0%</dt>\n",
       "\t\t<dd>-1.17501892889466</dd>\n",
       "\t<dt>25%</dt>\n",
       "\t\t<dd>-0.0823682094795584</dd>\n",
       "\t<dt>50%</dt>\n",
       "\t\t<dd>0.156937576594628</dd>\n",
       "\t<dt>75%</dt>\n",
       "\t\t<dd>0.688993085121717</dd>\n",
       "\t<dt>100%</dt>\n",
       "\t\t<dd>1.34039435678912</dd>\n",
       "</dl>\n"
      ],
      "text/latex": [
       "\\begin{description*}\n",
       "\\item[0%] -1.17501892889466\n",
       "\\item[25%] -0.0823682094795584\n",
       "\\item[50%] 0.156937576594628\n",
       "\\item[75%] 0.688993085121717\n",
       "\\item[100%] 1.34039435678912\n",
       "\\end{description*}\n"
      ],
      "text/markdown": [
       "0%\n",
       ":   -1.1750189288946625%\n",
       ":   -0.082368209479558450%\n",
       ":   0.15693757659462875%\n",
       ":   0.688993085121717100%\n",
       ":   1.34039435678912\n",
       "\n"
      ],
      "text/plain": [
       "         0%         25%         50%         75%        100% \n",
       "-1.17501893 -0.08236821  0.15693758  0.68899309  1.34039436 "
      ]
     },
     "execution_count": 6,
     "metadata": {},
     "output_type": "execute_result"
    }
   ],
   "source": [
    "quantile(y, type=5)"
   ]
  },
  {
   "cell_type": "code",
   "execution_count": 7,
   "metadata": {
    "collapsed": false
   },
   "outputs": [
    {
     "data": {
      "text/html": [
       "<dl class=dl-horizontal>\n",
       "\t<dt>0%</dt>\n",
       "\t\t<dd>-1.17501892889466</dd>\n",
       "\t<dt>25%</dt>\n",
       "\t\t<dd>-0.168761546468755</dd>\n",
       "\t<dt>50%</dt>\n",
       "\t\t<dd>0.156937576594628</dd>\n",
       "\t<dt>75%</dt>\n",
       "\t\t<dd>0.793356152798018</dd>\n",
       "\t<dt>100%</dt>\n",
       "\t\t<dd>1.34039435678912</dd>\n",
       "</dl>\n"
      ],
      "text/latex": [
       "\\begin{description*}\n",
       "\\item[0%] -1.17501892889466\n",
       "\\item[25%] -0.168761546468755\n",
       "\\item[50%] 0.156937576594628\n",
       "\\item[75%] 0.793356152798018\n",
       "\\item[100%] 1.34039435678912\n",
       "\\end{description*}\n"
      ],
      "text/markdown": [
       "0%\n",
       ":   -1.1750189288946625%\n",
       ":   -0.16876154646875550%\n",
       ":   0.15693757659462875%\n",
       ":   0.793356152798018100%\n",
       ":   1.34039435678912\n",
       "\n"
      ],
      "text/plain": [
       "        0%        25%        50%        75%       100% \n",
       "-1.1750189 -0.1687615  0.1569376  0.7933562  1.3403944 "
      ]
     },
     "execution_count": 7,
     "metadata": {},
     "output_type": "execute_result"
    }
   ],
   "source": [
    "quantile(y, type=6)"
   ]
  },
  {
   "cell_type": "code",
   "execution_count": 8,
   "metadata": {
    "collapsed": false
   },
   "outputs": [
    {
     "data": {
      "text/html": [
       "<dl class=dl-horizontal>\n",
       "\t<dt>0%</dt>\n",
       "\t\t<dd>-1.17501892889466</dd>\n",
       "\t<dt>25%</dt>\n",
       "\t\t<dd>-0.0570982595089929</dd>\n",
       "\t<dt>50%</dt>\n",
       "\t\t<dd>0.156937576594628</dd>\n",
       "\t<dt>75%</dt>\n",
       "\t\t<dd>0.633643387714066</dd>\n",
       "\t<dt>100%</dt>\n",
       "\t\t<dd>1.34039435678912</dd>\n",
       "</dl>\n"
      ],
      "text/latex": [
       "\\begin{description*}\n",
       "\\item[0%] -1.17501892889466\n",
       "\\item[25%] -0.0570982595089929\n",
       "\\item[50%] 0.156937576594628\n",
       "\\item[75%] 0.633643387714066\n",
       "\\item[100%] 1.34039435678912\n",
       "\\end{description*}\n"
      ],
      "text/markdown": [
       "0%\n",
       ":   -1.1750189288946625%\n",
       ":   -0.057098259508992950%\n",
       ":   0.15693757659462875%\n",
       ":   0.633643387714066100%\n",
       ":   1.34039435678912\n",
       "\n"
      ],
      "text/plain": [
       "         0%         25%         50%         75%        100% \n",
       "-1.17501893 -0.05709826  0.15693758  0.63364339  1.34039436 "
      ]
     },
     "execution_count": 8,
     "metadata": {},
     "output_type": "execute_result"
    }
   ],
   "source": [
    "quantile(y, type=7)"
   ]
  },
  {
   "cell_type": "code",
   "execution_count": 9,
   "metadata": {
    "collapsed": false
   },
   "outputs": [
    {
     "data": {
      "text/html": [
       "<dl class=dl-horizontal>\n",
       "\t<dt>0%</dt>\n",
       "\t\t<dd>-1.17501892889466</dd>\n",
       "\t<dt>25%</dt>\n",
       "\t\t<dd>-0.111165988475957</dd>\n",
       "\t<dt>50%</dt>\n",
       "\t\t<dd>0.156937576594628</dd>\n",
       "\t<dt>75%</dt>\n",
       "\t\t<dd>0.72378077434715</dd>\n",
       "\t<dt>100%</dt>\n",
       "\t\t<dd>1.34039435678912</dd>\n",
       "</dl>\n"
      ],
      "text/latex": [
       "\\begin{description*}\n",
       "\\item[0%] -1.17501892889466\n",
       "\\item[25%] -0.111165988475957\n",
       "\\item[50%] 0.156937576594628\n",
       "\\item[75%] 0.72378077434715\n",
       "\\item[100%] 1.34039435678912\n",
       "\\end{description*}\n"
      ],
      "text/markdown": [
       "0%\n",
       ":   -1.1750189288946625%\n",
       ":   -0.11116598847595750%\n",
       ":   0.15693757659462875%\n",
       ":   0.72378077434715100%\n",
       ":   1.34039435678912\n",
       "\n"
      ],
      "text/plain": [
       "        0%        25%        50%        75%       100% \n",
       "-1.1750189 -0.1111660  0.1569376  0.7237808  1.3403944 "
      ]
     },
     "execution_count": 9,
     "metadata": {},
     "output_type": "execute_result"
    }
   ],
   "source": [
    "quantile(y, type=8)"
   ]
  },
  {
   "cell_type": "code",
   "execution_count": 10,
   "metadata": {
    "collapsed": false
   },
   "outputs": [
    {
     "data": {
      "text/html": [
       "<dl class=dl-horizontal>\n",
       "\t<dt>0%</dt>\n",
       "\t\t<dd>-1.17501892889466</dd>\n",
       "\t<dt>25%</dt>\n",
       "\t\t<dd>-0.103966543726857</dd>\n",
       "\t<dt>50%</dt>\n",
       "\t\t<dd>0.156937576594628</dd>\n",
       "\t<dt>75%</dt>\n",
       "\t\t<dd>0.715083852040792</dd>\n",
       "\t<dt>100%</dt>\n",
       "\t\t<dd>1.34039435678912</dd>\n",
       "</dl>\n"
      ],
      "text/latex": [
       "\\begin{description*}\n",
       "\\item[0%] -1.17501892889466\n",
       "\\item[25%] -0.103966543726857\n",
       "\\item[50%] 0.156937576594628\n",
       "\\item[75%] 0.715083852040792\n",
       "\\item[100%] 1.34039435678912\n",
       "\\end{description*}\n"
      ],
      "text/markdown": [
       "0%\n",
       ":   -1.1750189288946625%\n",
       ":   -0.10396654372685750%\n",
       ":   0.15693757659462875%\n",
       ":   0.715083852040792100%\n",
       ":   1.34039435678912\n",
       "\n"
      ],
      "text/plain": [
       "        0%        25%        50%        75%       100% \n",
       "-1.1750189 -0.1039665  0.1569376  0.7150839  1.3403944 "
      ]
     },
     "execution_count": 10,
     "metadata": {},
     "output_type": "execute_result"
    }
   ],
   "source": [
    "quantile(y, type=9)"
   ]
  },
  {
   "cell_type": "code",
   "execution_count": null,
   "metadata": {
    "collapsed": true
   },
   "outputs": [],
   "source": []
  }
 ],
 "metadata": {
  "kernelspec": {
   "display_name": "R",
   "language": "R",
   "name": "ir"
  },
  "language_info": {
   "codemirror_mode": "r",
   "file_extension": ".r",
   "mimetype": "text/x-r-source",
   "name": "R",
   "pygments_lexer": "r",
   "version": "3.2.4"
  }
 },
 "nbformat": 4,
 "nbformat_minor": 0
}
