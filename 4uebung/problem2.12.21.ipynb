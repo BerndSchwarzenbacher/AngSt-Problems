{
 "cells": [
  {
   "cell_type": "code",
   "execution_count": 1,
   "metadata": {
    "collapsed": false
   },
   "outputs": [
    {
     "name": "stderr",
     "output_type": "stream",
     "text": [
      "Loading required package: matrixcalc\n"
     ]
    }
   ],
   "source": [
    "require(matrixcalc)"
   ]
  },
  {
   "cell_type": "code",
   "execution_count": 2,
   "metadata": {
    "collapsed": false
   },
   "outputs": [
    {
     "data": {
      "text/html": [
       "<table>\n",
       "<tbody>\n",
       "\t<tr><td>283</td><td>215</td><td>277</td><td>208</td></tr>\n",
       "\t<tr><td>215</td><td>213</td><td>217</td><td>153</td></tr>\n",
       "\t<tr><td>277</td><td>217</td><td>336</td><td>236</td></tr>\n",
       "\t<tr><td>208</td><td>153</td><td>236</td><td>194</td></tr>\n",
       "</tbody>\n",
       "</table>\n"
      ],
      "text/latex": [
       "\\begin{tabular}{llll}\n",
       "\t 283 & 215 & 277 & 208\\\\\n",
       "\t 215 & 213 & 217 & 153\\\\\n",
       "\t 277 & 217 & 336 & 236\\\\\n",
       "\t 208 & 153 & 236 & 194\\\\\n",
       "\\end{tabular}\n"
      ],
      "text/markdown": [
       "1. 283\n",
       "2. 215\n",
       "3. 277\n",
       "4. 208\n",
       "5. 215\n",
       "6. 213\n",
       "7. 217\n",
       "8. 153\n",
       "9. 277\n",
       "10. 217\n",
       "11. 336\n",
       "12. 236\n",
       "13. 208\n",
       "14. 153\n",
       "15. 236\n",
       "16. 194\n",
       "\n",
       "\n"
      ],
      "text/plain": [
       "     [,1] [,2] [,3] [,4]\n",
       "[1,]  283  215  277  208\n",
       "[2,]  215  213  217  153\n",
       "[3,]  277  217  336  236\n",
       "[4,]  208  153  236  194"
      ]
     },
     "execution_count": 2,
     "metadata": {},
     "output_type": "execute_result"
    }
   ],
   "source": [
    "Sigm <- matrix(c(283, 215, 277, 208, 215, 213, 217, 153, 277, 217, 336, 236, 208, 153, 236, 194), nrow=4)\n",
    "Sigm"
   ]
  },
  {
   "cell_type": "code",
   "execution_count": 3,
   "metadata": {
    "collapsed": false
   },
   "outputs": [
    {
     "data": {
      "text/html": [
       "1026"
      ],
      "text/latex": [
       "1026"
      ],
      "text/markdown": [
       "1026"
      ],
      "text/plain": [
       "[1] 1026"
      ]
     },
     "execution_count": 3,
     "metadata": {},
     "output_type": "execute_result"
    }
   ],
   "source": [
    "tr <- matrix.trace(Sigm)\n",
    "tr"
   ]
  },
  {
   "cell_type": "code",
   "execution_count": 4,
   "metadata": {
    "collapsed": false
   },
   "outputs": [
    {
     "data": {
      "text/html": [
       "<table>\n",
       "<tbody>\n",
       "\t<tr><td>-0.5357934</td><td> 0.1912818</td><td> 0.7050231</td><td>-0.4234138</td></tr>\n",
       "\t<tr><td>-0.4320336</td><td> 0.7687151</td><td>-0.3416228</td><td> 0.3251431</td></tr>\n",
       "\t<tr><td>-0.5834990</td><td>-0.4125759</td><td>-0.5727115</td><td>-0.4016360</td></tr>\n",
       "\t<tr><td>-0.4310468</td><td>-0.4497438</td><td> 0.2413252</td><td> 0.7441044</td></tr>\n",
       "</tbody>\n",
       "</table>\n"
      ],
      "text/latex": [
       "\\begin{tabular}{llll}\n",
       "\t -0.5357934 &  0.1912818 &  0.7050231 & -0.4234138\\\\\n",
       "\t -0.4320336 &  0.7687151 & -0.3416228 &  0.3251431\\\\\n",
       "\t -0.5834990 & -0.4125759 & -0.5727115 & -0.4016360\\\\\n",
       "\t -0.4310468 & -0.4497438 &  0.2413252 &  0.7441044\\\\\n",
       "\\end{tabular}\n"
      ],
      "text/markdown": [
       "1. -0.53579338191969\n",
       "2. -0.432033597170025\n",
       "3. -0.583499015959617\n",
       "4. -0.431046773774668\n",
       "5. 0.191281847757066\n",
       "6. 0.768715056145102\n",
       "7. -0.412575928789768\n",
       "8. -0.449743838376619\n",
       "9. 0.705023050080231\n",
       "10. -0.341622784128122\n",
       "11. -0.57271154226257\n",
       "12. 0.241325219526157\n",
       "13. -0.423413752097487\n",
       "14. 0.32514305580269\n",
       "15. -0.401636017703403\n",
       "16. 0.744104358999037\n",
       "\n",
       "\n"
      ],
      "text/plain": [
       "           [,1]       [,2]       [,3]       [,4]\n",
       "[1,] -0.5357934  0.1912818  0.7050231 -0.4234138\n",
       "[2,] -0.4320336  0.7687151 -0.3416228  0.3251431\n",
       "[3,] -0.5834990 -0.4125759 -0.5727115 -0.4016360\n",
       "[4,] -0.4310468 -0.4497438  0.2413252  0.7441044"
      ]
     },
     "execution_count": 4,
     "metadata": {},
     "output_type": "execute_result"
    }
   ],
   "source": [
    "eigen_val_vec <- eigen(Sigm, symmetric=TRUE)\n",
    "vect <- eigen_val_vec$vectors\n",
    "vect"
   ]
  },
  {
   "cell_type": "code",
   "execution_count": 5,
   "metadata": {
    "collapsed": false
   },
   "outputs": [
    {
     "data": {
      "text/html": [
       "<ol class=list-inline>\n",
       "\t<li>-0.53579338191969</li>\n",
       "\t<li>-0.432033597170025</li>\n",
       "\t<li>-0.583499015959617</li>\n",
       "\t<li>-0.431046773774668</li>\n",
       "</ol>\n"
      ],
      "text/latex": [
       "\\begin{enumerate*}\n",
       "\\item -0.53579338191969\n",
       "\\item -0.432033597170025\n",
       "\\item -0.583499015959617\n",
       "\\item -0.431046773774668\n",
       "\\end{enumerate*}\n"
      ],
      "text/markdown": [
       "1. -0.53579338191969\n",
       "2. -0.432033597170025\n",
       "3. -0.583499015959617\n",
       "4. -0.431046773774668\n",
       "\n",
       "\n"
      ],
      "text/plain": [
       "[1] -0.5357934 -0.4320336 -0.5834990 -0.4310468"
      ]
     },
     "execution_count": 5,
     "metadata": {},
     "output_type": "execute_result"
    }
   ],
   "source": [
    "v1 <- vect[,1]\n",
    "v1"
   ]
  },
  {
   "cell_type": "code",
   "execution_count": 6,
   "metadata": {
    "collapsed": false
   },
   "outputs": [
    {
     "data": {
      "text/html": [
       "1"
      ],
      "text/latex": [
       "1"
      ],
      "text/markdown": [
       "1"
      ],
      "text/plain": [
       "[1] 1"
      ]
     },
     "execution_count": 6,
     "metadata": {},
     "output_type": "execute_result"
    }
   ],
   "source": [
    "norm(as.matrix(v1), \"f\")"
   ]
  },
  {
   "cell_type": "code",
   "execution_count": 7,
   "metadata": {
    "collapsed": false
   },
   "outputs": [
    {
     "data": {
      "text/html": [
       "925.363626300051"
      ],
      "text/latex": [
       "925.363626300051"
      ],
      "text/markdown": [
       "925.363626300051"
      ],
      "text/plain": [
       "[1] 925.3636"
      ]
     },
     "execution_count": 7,
     "metadata": {},
     "output_type": "execute_result"
    }
   ],
   "source": [
    "lambda1 <- eigen_val_vec$values[1]\n",
    "lambda1"
   ]
  },
  {
   "cell_type": "code",
   "execution_count": 8,
   "metadata": {
    "collapsed": false
   },
   "outputs": [
    {
     "data": {
      "text/html": [
       "0.901913865789523"
      ],
      "text/latex": [
       "0.901913865789523"
      ],
      "text/markdown": [
       "0.901913865789523"
      ],
      "text/plain": [
       "[1] 0.9019139"
      ]
     },
     "execution_count": 8,
     "metadata": {},
     "output_type": "execute_result"
    }
   ],
   "source": [
    "lambda1/tr"
   ]
  }
 ],
 "metadata": {
  "kernelspec": {
   "display_name": "R",
   "language": "R",
   "name": "ir"
  },
  "language_info": {
   "codemirror_mode": "r",
   "file_extension": ".r",
   "mimetype": "text/x-r-source",
   "name": "R",
   "pygments_lexer": "r",
   "version": "3.2.3"
  }
 },
 "nbformat": 4,
 "nbformat_minor": 0
}
