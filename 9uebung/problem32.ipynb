{
 "cells": [
  {
   "cell_type": "markdown",
   "metadata": {},
   "source": [
    "## a)"
   ]
  },
  {
   "cell_type": "code",
   "execution_count": 1,
   "metadata": {
    "collapsed": true
   },
   "outputs": [],
   "source": [
    "cp <- 0.95\n",
    "alpha <- 1-cp"
   ]
  },
  {
   "cell_type": "code",
   "execution_count": 2,
   "metadata": {
    "collapsed": false
   },
   "outputs": [
    {
     "data": {
      "text/html": [
       "<table>\n",
       "<thead><tr><th></th><th scope=col>x</th><th scope=col>y</th></tr></thead>\n",
       "<tbody>\n",
       "\t<tr><th scope=row>1</th><td>57</td><td>13.2</td></tr>\n",
       "\t<tr><th scope=row>2</th><td>61</td><td>13.3</td></tr>\n",
       "\t<tr><th scope=row>3</th><td>59</td><td>13.3</td></tr>\n",
       "\t<tr><th scope=row>4</th><td>55</td><td>12.7</td></tr>\n",
       "\t<tr><th scope=row>5</th><td>61</td><td>13.4</td></tr>\n",
       "\t<tr><th scope=row>6</th><td>63</td><td>13.9</td></tr>\n",
       "\t<tr><th scope=row>7</th><td>56</td><td>12.8</td></tr>\n",
       "\t<tr><th scope=row>8</th><td>58</td><td>13</td></tr>\n",
       "\t<tr><th scope=row>9</th><td>59</td><td>13.4</td></tr>\n",
       "\t<tr><th scope=row>10</th><td>69</td><td>14.5</td></tr>\n",
       "</tbody>\n",
       "</table>\n"
      ],
      "text/latex": [
       "\\begin{tabular}{r|ll}\n",
       "  & x & y\\\\\n",
       "\\hline\n",
       "\t1 & 57 & 13.2\\\\\n",
       "\t2 & 61 & 13.3\\\\\n",
       "\t3 & 59 & 13.3\\\\\n",
       "\t4 & 55 & 12.7\\\\\n",
       "\t5 & 61 & 13.4\\\\\n",
       "\t6 & 63 & 13.9\\\\\n",
       "\t7 & 56 & 12.8\\\\\n",
       "\t8 & 58 & 13\\\\\n",
       "\t9 & 59 & 13.4\\\\\n",
       "\t10 & 69 & 14.5\\\\\n",
       "\\end{tabular}\n"
      ],
      "text/plain": [
       "    x    y\n",
       "1  57 13.2\n",
       "2  61 13.3\n",
       "3  59 13.3\n",
       "4  55 12.7\n",
       "5  61 13.4\n",
       "6  63 13.9\n",
       "7  56 12.8\n",
       "8  58 13.0\n",
       "9  59 13.4\n",
       "10 69 14.5"
      ]
     },
     "execution_count": 2,
     "metadata": {},
     "output_type": "execute_result"
    }
   ],
   "source": [
    "data <- read.table(\"rp100m.txt\", header=TRUE)\n",
    "data"
   ]
  },
  {
   "cell_type": "code",
   "execution_count": 3,
   "metadata": {
    "collapsed": false
   },
   "outputs": [
    {
     "data": {
      "text/html": [
       "10"
      ],
      "text/latex": [
       "10"
      ],
      "text/markdown": [
       "10"
      ],
      "text/plain": [
       "[1] 10"
      ]
     },
     "execution_count": 3,
     "metadata": {},
     "output_type": "execute_result"
    }
   ],
   "source": [
    "n <- nrow(data)\n",
    "n"
   ]
  },
  {
   "cell_type": "code",
   "execution_count": 4,
   "metadata": {
    "collapsed": false
   },
   "outputs": [
    {
     "data": {
      "text/html": [
       "0.967310496385169"
      ],
      "text/latex": [
       "0.967310496385169"
      ],
      "text/markdown": [
       "0.967310496385169"
      ],
      "text/plain": [
       "[1] 0.9673105"
      ]
     },
     "execution_count": 4,
     "metadata": {},
     "output_type": "execute_result"
    }
   ],
   "source": [
    "xm <- mean(data$x)\n",
    "ym <- mean(data$y)\n",
    "\n",
    "R <- sum((data$x - xm) * (data$y - ym)) / sqrt(sum((data$x - xm)^2) * sum((data$y - ym)^2))\n",
    "R"
   ]
  },
  {
   "cell_type": "code",
   "execution_count": 5,
   "metadata": {
    "collapsed": false
   },
   "outputs": [
    {
     "data": {
      "text/html": [
       "2.04868431134609"
      ],
      "text/latex": [
       "2.04868431134609"
      ],
      "text/markdown": [
       "2.04868431134609"
      ],
      "text/plain": [
       "[1] 2.048684"
      ]
     },
     "execution_count": 5,
     "metadata": {},
     "output_type": "execute_result"
    }
   ],
   "source": [
    "Z <- atanh(R)\n",
    "Z"
   ]
  },
  {
   "cell_type": "code",
   "execution_count": 6,
   "metadata": {
    "collapsed": false
   },
   "outputs": [
    {
     "data": {
      "text/html": [
       "<ol class=list-inline>\n",
       "\t<li>0.863739928694002</li>\n",
       "\t<li>0.992475450378996</li>\n",
       "</ol>\n"
      ],
      "text/latex": [
       "\\begin{enumerate*}\n",
       "\\item 0.863739928694002\n",
       "\\item 0.992475450378996\n",
       "\\end{enumerate*}\n"
      ],
      "text/markdown": [
       "1. 0.863739928694002\n",
       "2. 0.992475450378996\n",
       "\n",
       "\n"
      ],
      "text/plain": [
       "[1] 0.8637399 0.9924755"
      ]
     },
     "execution_count": 6,
     "metadata": {},
     "output_type": "execute_result"
    }
   ],
   "source": [
    "z_a <- qnorm(1-alpha/2)\n",
    "dev <- z_a/sqrt(n-3)\n",
    "c(tanh(Z - dev), tanh(Z + dev))"
   ]
  },
  {
   "cell_type": "markdown",
   "metadata": {},
   "source": [
    "## b)"
   ]
  },
  {
   "cell_type": "code",
   "execution_count": 7,
   "metadata": {
    "collapsed": true
   },
   "outputs": [],
   "source": [
    "alpha <- 0.05\n",
    "r0 <- 0.8"
   ]
  },
  {
   "cell_type": "code",
   "execution_count": 8,
   "metadata": {
    "collapsed": false
   },
   "outputs": [
    {
     "data": {
      "text/html": [
       "2.51365429960605"
      ],
      "text/latex": [
       "2.51365429960605"
      ],
      "text/markdown": [
       "2.51365429960605"
      ],
      "text/plain": [
       "[1] 2.513654"
      ]
     },
     "execution_count": 8,
     "metadata": {},
     "output_type": "execute_result"
    }
   ],
   "source": [
    "V <- sqrt(n-3) * (Z - atanh(r0))\n",
    "V"
   ]
  },
  {
   "cell_type": "code",
   "execution_count": 9,
   "metadata": {
    "collapsed": false
   },
   "outputs": [
    {
     "data": {
      "text/html": [
       "1.64485362695147"
      ],
      "text/latex": [
       "1.64485362695147"
      ],
      "text/markdown": [
       "1.64485362695147"
      ],
      "text/plain": [
       "[1] 1.644854"
      ]
     },
     "execution_count": 9,
     "metadata": {},
     "output_type": "execute_result"
    }
   ],
   "source": [
    "qnorm(1-alpha)"
   ]
  },
  {
   "cell_type": "markdown",
   "metadata": {},
   "source": [
    "$V > z_{1-\\alpha} \\implies$ H0 verwerfen"
   ]
  }
 ],
 "metadata": {
  "kernelspec": {
   "display_name": "R",
   "language": "R",
   "name": "ir"
  },
  "language_info": {
   "codemirror_mode": "r",
   "file_extension": ".r",
   "mimetype": "text/x-r-source",
   "name": "R",
   "pygments_lexer": "r",
   "version": "3.2.4"
  }
 },
 "nbformat": 4,
 "nbformat_minor": 0
}
