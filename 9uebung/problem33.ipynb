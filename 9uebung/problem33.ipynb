{
 "cells": [
  {
   "cell_type": "markdown",
   "metadata": {},
   "source": [
    "## a)"
   ]
  },
  {
   "cell_type": "markdown",
   "metadata": {},
   "source": [
    "### 1. Stichprobe:"
   ]
  },
  {
   "cell_type": "code",
   "execution_count": 1,
   "metadata": {
    "collapsed": true
   },
   "outputs": [],
   "source": [
    "n1 <- 28\n",
    "R1 <- 0.5"
   ]
  },
  {
   "cell_type": "code",
   "execution_count": 2,
   "metadata": {
    "collapsed": false
   },
   "outputs": [
    {
     "data": {
      "text/html": [
       "2.94392028877595"
      ],
      "text/latex": [
       "2.94392028877595"
      ],
      "text/markdown": [
       "2.94392028877595"
      ],
      "text/plain": [
       "[1] 2.94392"
      ]
     },
     "execution_count": 2,
     "metadata": {},
     "output_type": "execute_result"
    }
   ],
   "source": [
    "T1 <- R1 * sqrt(n1 - 2) / sqrt(1 - R1^2)\n",
    "T1"
   ]
  },
  {
   "cell_type": "code",
   "execution_count": 3,
   "metadata": {
    "collapsed": false
   },
   "outputs": [
    {
     "data": {
      "text/html": [
       "1.70561791975927"
      ],
      "text/latex": [
       "1.70561791975927"
      ],
      "text/markdown": [
       "1.70561791975927"
      ],
      "text/plain": [
       "[1] 1.705618"
      ]
     },
     "execution_count": 3,
     "metadata": {},
     "output_type": "execute_result"
    }
   ],
   "source": [
    "qt(1-0.05, n1-2)"
   ]
  },
  {
   "cell_type": "code",
   "execution_count": 4,
   "metadata": {
    "collapsed": false
   },
   "outputs": [
    {
     "data": {
      "text/html": [
       "2.47862982359124"
      ],
      "text/latex": [
       "2.47862982359124"
      ],
      "text/markdown": [
       "2.47862982359124"
      ],
      "text/plain": [
       "[1] 2.47863"
      ]
     },
     "execution_count": 4,
     "metadata": {},
     "output_type": "execute_result"
    }
   ],
   "source": [
    "qt(1-0.01, n1-2)"
   ]
  },
  {
   "cell_type": "markdown",
   "metadata": {},
   "source": [
    "$\\implies$ H0 auf beiden Niveaus verwerfen"
   ]
  },
  {
   "cell_type": "markdown",
   "metadata": {},
   "source": [
    "### 2. Stichprobe:"
   ]
  },
  {
   "cell_type": "code",
   "execution_count": 5,
   "metadata": {
    "collapsed": true
   },
   "outputs": [],
   "source": [
    "n2 <- 35\n",
    "R2 <- 0.3"
   ]
  },
  {
   "cell_type": "code",
   "execution_count": 6,
   "metadata": {
    "collapsed": false
   },
   "outputs": [
    {
     "data": {
      "text/html": [
       "1.80658137478948"
      ],
      "text/latex": [
       "1.80658137478948"
      ],
      "text/markdown": [
       "1.80658137478948"
      ],
      "text/plain": [
       "[1] 1.806581"
      ]
     },
     "execution_count": 6,
     "metadata": {},
     "output_type": "execute_result"
    }
   ],
   "source": [
    "T2 <- R2 * sqrt(n2 - 2) / sqrt(1 - R2^2)\n",
    "T2"
   ]
  },
  {
   "cell_type": "code",
   "execution_count": 7,
   "metadata": {
    "collapsed": false
   },
   "outputs": [
    {
     "data": {
      "text/html": [
       "1.69236030903034"
      ],
      "text/latex": [
       "1.69236030903034"
      ],
      "text/markdown": [
       "1.69236030903034"
      ],
      "text/plain": [
       "[1] 1.69236"
      ]
     },
     "execution_count": 7,
     "metadata": {},
     "output_type": "execute_result"
    }
   ],
   "source": [
    "qt(1-0.05, n2-2)"
   ]
  },
  {
   "cell_type": "code",
   "execution_count": 8,
   "metadata": {
    "collapsed": false
   },
   "outputs": [
    {
     "data": {
      "text/html": [
       "2.44479419980781"
      ],
      "text/latex": [
       "2.44479419980781"
      ],
      "text/markdown": [
       "2.44479419980781"
      ],
      "text/plain": [
       "[1] 2.444794"
      ]
     },
     "execution_count": 8,
     "metadata": {},
     "output_type": "execute_result"
    }
   ],
   "source": [
    "qt(1-0.01, n2-2)"
   ]
  },
  {
   "cell_type": "markdown",
   "metadata": {},
   "source": [
    "$\\implies$ H0 auf 0.05 Niveau verwerfen, aber auf 0.01 Niveau nicht verwerfen"
   ]
  },
  {
   "cell_type": "markdown",
   "metadata": {},
   "source": [
    "## b)"
   ]
  },
  {
   "cell_type": "code",
   "execution_count": 10,
   "metadata": {
    "collapsed": false
   },
   "outputs": [
    {
     "data": {
      "text/html": [
       "1.3564375085108"
      ],
      "text/latex": [
       "1.3564375085108"
      ],
      "text/markdown": [
       "1.3564375085108"
      ],
      "text/plain": [
       "[1] 1.356438"
      ]
     },
     "execution_count": 10,
     "metadata": {},
     "output_type": "execute_result"
    }
   ],
   "source": [
    "Z1 <- atanh(R1)\n",
    "Z2 <- atanh(R2)\n",
    "sqrt(n2 - 3) * abs(Z1 - Z2)"
   ]
  },
  {
   "cell_type": "code",
   "execution_count": 11,
   "metadata": {
    "collapsed": false
   },
   "outputs": [
    {
     "data": {
      "text/html": [
       "1.95996398454005"
      ],
      "text/latex": [
       "1.95996398454005"
      ],
      "text/markdown": [
       "1.95996398454005"
      ],
      "text/plain": [
       "[1] 1.959964"
      ]
     },
     "execution_count": 11,
     "metadata": {},
     "output_type": "execute_result"
    }
   ],
   "source": [
    "qnorm(1-0.05/2)"
   ]
  },
  {
   "cell_type": "markdown",
   "metadata": {},
   "source": [
    "$\\implies$ H0 wird nicht verworfen"
   ]
  }
 ],
 "metadata": {
  "kernelspec": {
   "display_name": "R",
   "language": "R",
   "name": "ir"
  },
  "language_info": {
   "codemirror_mode": "r",
   "file_extension": ".r",
   "mimetype": "text/x-r-source",
   "name": "R",
   "pygments_lexer": "r",
   "version": "3.2.4"
  }
 },
 "nbformat": 4,
 "nbformat_minor": 0
}
