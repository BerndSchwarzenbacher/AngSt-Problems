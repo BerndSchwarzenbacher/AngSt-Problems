{
 "cells": [
  {
   "cell_type": "code",
   "execution_count": 1,
   "metadata": {
    "collapsed": true
   },
   "outputs": [],
   "source": [
    "n1 <- 100\n",
    "xm1 <- 10\n",
    "ym1 <- 20\n",
    "sx1 <- 5\n",
    "sy1 <- 8\n",
    "r1 <- 0.7"
   ]
  },
  {
   "cell_type": "code",
   "execution_count": 2,
   "metadata": {
    "collapsed": false
   },
   "outputs": [],
   "source": [
    "n2 <- 200\n",
    "xm2 <- 12\n",
    "ym2 <- 22\n",
    "sx2 <- 6\n",
    "sy2 <- 10\n",
    "r2 <- 0.8"
   ]
  },
  {
   "cell_type": "code",
   "execution_count": 3,
   "metadata": {
    "collapsed": true
   },
   "outputs": [],
   "source": [
    "n <- n1 + n2"
   ]
  },
  {
   "cell_type": "code",
   "execution_count": 4,
   "metadata": {
    "collapsed": true
   },
   "outputs": [],
   "source": [
    "sum_xy1 <- n1 * (r1 * sx1 * sy1 + xm1 * ym1)\n",
    "sum_xy2 <- n2 * (r2 * sx2 * sy2 + xm2 * ym2)\n",
    "sum_xy <- sum_xy1 + sum_xy2"
   ]
  },
  {
   "cell_type": "code",
   "execution_count": 5,
   "metadata": {
    "collapsed": true
   },
   "outputs": [],
   "source": [
    "xm <- (n1 * xm1 + n2 * xm2) / n\n",
    "ym <- (n1 * ym1 + n2 * ym2) / n\n",
    "cov_xy <- 1/n * sum_xy - xm * ym"
   ]
  },
  {
   "cell_type": "code",
   "execution_count": 6,
   "metadata": {
    "collapsed": true
   },
   "outputs": [],
   "source": [
    "sxn_sq <- 1/n * ((sx1^2+xm1^2) * n1 + (sx2^2+xm2^2) * n2) - xm^2\n",
    "syn_sq <- 1/n * ((sy1^2+ym1^2) * n1 + (sy2^2+ym2^2) * n2) - ym^2"
   ]
  },
  {
   "cell_type": "code",
   "execution_count": 7,
   "metadata": {
    "collapsed": false
   },
   "outputs": [
    {
     "data": {
      "text/html": [
       "0.776967779104054"
      ],
      "text/latex": [
       "0.776967779104054"
      ],
      "text/markdown": [
       "0.776967779104054"
      ],
      "text/plain": [
       "[1] 0.7769678"
      ]
     },
     "execution_count": 7,
     "metadata": {},
     "output_type": "execute_result"
    }
   ],
   "source": [
    "r <- cov_xy / sqrt(sxn_sq * syn_sq)\n",
    "r"
   ]
  }
 ],
 "metadata": {
  "kernelspec": {
   "display_name": "R",
   "language": "R",
   "name": "ir"
  },
  "language_info": {
   "codemirror_mode": "r",
   "file_extension": ".r",
   "mimetype": "text/x-r-source",
   "name": "R",
   "pygments_lexer": "r",
   "version": "3.2.4"
  }
 },
 "nbformat": 4,
 "nbformat_minor": 0
}
