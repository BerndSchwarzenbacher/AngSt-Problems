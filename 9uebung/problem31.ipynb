{
 "cells": [
  {
   "cell_type": "code",
   "execution_count": 1,
   "metadata": {
    "collapsed": true
   },
   "outputs": [],
   "source": [
    "alpha <- 0.05"
   ]
  },
  {
   "cell_type": "code",
   "execution_count": 2,
   "metadata": {
    "collapsed": false
   },
   "outputs": [
    {
     "data": {
      "text/html": [
       "<table>\n",
       "<thead><tr><th></th><th scope=col>B1</th><th scope=col>B2</th><th scope=col>B3</th><th scope=col>B4</th></tr></thead>\n",
       "<tbody>\n",
       "\t<tr><th scope=row>A1</th><td>10</td><td>21</td><td>15</td><td>6</td></tr>\n",
       "\t<tr><th scope=row>A2</th><td>11</td><td>27</td><td>21</td><td>13</td></tr>\n",
       "\t<tr><th scope=row>A3</th><td>6</td><td>19</td><td>27</td><td>24</td></tr>\n",
       "</tbody>\n",
       "</table>\n"
      ],
      "text/latex": [
       "\\begin{tabular}{r|llll}\n",
       "  & B1 & B2 & B3 & B4\\\\\n",
       "\\hline\n",
       "\tA1 & 10 & 21 & 15 & 6\\\\\n",
       "\tA2 & 11 & 27 & 21 & 13\\\\\n",
       "\tA3 & 6 & 19 & 27 & 24\\\\\n",
       "\\end{tabular}\n"
      ],
      "text/plain": [
       "   B1 B2 B3 B4\n",
       "A1 10 21 15  6\n",
       "A2 11 27 21 13\n",
       "A3  6 19 27 24"
      ]
     },
     "execution_count": 2,
     "metadata": {},
     "output_type": "execute_result"
    }
   ],
   "source": [
    "data <- data.frame(B1=c(10, 11, 6), B2=c(21, 27, 19), B3=c(15, 21, 27), B4=c(6, 13, 24),\n",
    "                   row.names=c(\"A1\", \"A2\", \"A3\"))\n",
    "data"
   ]
  },
  {
   "cell_type": "code",
   "execution_count": 3,
   "metadata": {
    "collapsed": false
   },
   "outputs": [
    {
     "data": {
      "text/html": [
       "<ol class=list-inline>\n",
       "\t<li>3</li>\n",
       "\t<li>4</li>\n",
       "\t<li>200</li>\n",
       "</ol>\n"
      ],
      "text/latex": [
       "\\begin{enumerate*}\n",
       "\\item 3\n",
       "\\item 4\n",
       "\\item 200\n",
       "\\end{enumerate*}\n"
      ],
      "text/markdown": [
       "1. 3\n",
       "2. 4\n",
       "3. 200\n",
       "\n",
       "\n"
      ],
      "text/plain": [
       "[1]   3   4 200"
      ]
     },
     "execution_count": 3,
     "metadata": {},
     "output_type": "execute_result"
    }
   ],
   "source": [
    "a <- nrow(data)\n",
    "b <- ncol(data)\n",
    "n <- sum(data)\n",
    "c(a, b, n)"
   ]
  },
  {
   "cell_type": "code",
   "execution_count": 4,
   "metadata": {
    "collapsed": false
   },
   "outputs": [
    {
     "data": {
      "text/html": [
       "<dl class=dl-horizontal>\n",
       "\t<dt>A1</dt>\n",
       "\t\t<dd>0.26</dd>\n",
       "\t<dt>A2</dt>\n",
       "\t\t<dd>0.36</dd>\n",
       "\t<dt>A3</dt>\n",
       "\t\t<dd>0.38</dd>\n",
       "</dl>\n"
      ],
      "text/latex": [
       "\\begin{description*}\n",
       "\\item[A1] 0.26\n",
       "\\item[A2] 0.36\n",
       "\\item[A3] 0.38\n",
       "\\end{description*}\n"
      ],
      "text/markdown": [
       "A1\n",
       ":   0.26A2\n",
       ":   0.36A3\n",
       ":   0.38\n",
       "\n"
      ],
      "text/plain": [
       "  A1   A2   A3 \n",
       "0.26 0.36 0.38 "
      ]
     },
     "execution_count": 4,
     "metadata": {},
     "output_type": "execute_result"
    }
   ],
   "source": [
    "p_i <- 1/n * rowSums(data)\n",
    "p_i"
   ]
  },
  {
   "cell_type": "code",
   "execution_count": 5,
   "metadata": {
    "collapsed": false
   },
   "outputs": [
    {
     "data": {
      "text/html": [
       "<dl class=dl-horizontal>\n",
       "\t<dt>B1</dt>\n",
       "\t\t<dd>0.135</dd>\n",
       "\t<dt>B2</dt>\n",
       "\t\t<dd>0.335</dd>\n",
       "\t<dt>B3</dt>\n",
       "\t\t<dd>0.315</dd>\n",
       "\t<dt>B4</dt>\n",
       "\t\t<dd>0.215</dd>\n",
       "</dl>\n"
      ],
      "text/latex": [
       "\\begin{description*}\n",
       "\\item[B1] 0.135\n",
       "\\item[B2] 0.335\n",
       "\\item[B3] 0.315\n",
       "\\item[B4] 0.215\n",
       "\\end{description*}\n"
      ],
      "text/markdown": [
       "B1\n",
       ":   0.135B2\n",
       ":   0.335B3\n",
       ":   0.315B4\n",
       ":   0.215\n",
       "\n"
      ],
      "text/plain": [
       "   B1    B2    B3    B4 \n",
       "0.135 0.335 0.315 0.215 "
      ]
     },
     "execution_count": 5,
     "metadata": {},
     "output_type": "execute_result"
    }
   ],
   "source": [
    "p_j <- 1/n * colSums(data)\n",
    "p_j"
   ]
  },
  {
   "cell_type": "code",
   "execution_count": 6,
   "metadata": {
    "collapsed": false
   },
   "outputs": [
    {
     "data": {
      "text/html": [
       "<dl class=dl-horizontal>\n",
       "\t<dt>A1</dt>\n",
       "\t\t<dd>0.26</dd>\n",
       "\t<dt>A2</dt>\n",
       "\t\t<dd>0.36</dd>\n",
       "\t<dt>A3</dt>\n",
       "\t\t<dd>0.38</dd>\n",
       "</dl>\n"
      ],
      "text/latex": [
       "\\begin{description*}\n",
       "\\item[A1] 0.26\n",
       "\\item[A2] 0.36\n",
       "\\item[A3] 0.38\n",
       "\\end{description*}\n"
      ],
      "text/markdown": [
       "A1\n",
       ":   0.26A2\n",
       ":   0.36A3\n",
       ":   0.38\n",
       "\n"
      ],
      "text/plain": [
       "  A1   A2   A3 \n",
       "0.26 0.36 0.38 "
      ]
     },
     "execution_count": 6,
     "metadata": {},
     "output_type": "execute_result"
    }
   ],
   "source": [
    "p_i <- 1/n * rowSums(data)\n",
    "p_i"
   ]
  },
  {
   "cell_type": "code",
   "execution_count": 7,
   "metadata": {
    "collapsed": false
   },
   "outputs": [
    {
     "data": {
      "text/html": [
       "<table>\n",
       "<thead><tr><th scope=col>B1</th><th scope=col>B2</th><th scope=col>B3</th><th scope=col>B4</th></tr></thead>\n",
       "<tbody>\n",
       "\t<tr><td>0.0351</td><td>0.0871</td><td>0.0819</td><td>0.0559</td></tr>\n",
       "\t<tr><td>0.0486</td><td>0.1206</td><td>0.1134</td><td>0.0774</td></tr>\n",
       "\t<tr><td>0.0513</td><td>0.1273</td><td>0.1197</td><td>0.0817</td></tr>\n",
       "</tbody>\n",
       "</table>\n"
      ],
      "text/latex": [
       "\\begin{tabular}{llll}\n",
       " B1 & B2 & B3 & B4\\\\\n",
       "\\hline\n",
       "\t 0.0351 & 0.0871 & 0.0819 & 0.0559\\\\\n",
       "\t 0.0486 & 0.1206 & 0.1134 & 0.0774\\\\\n",
       "\t 0.0513 & 0.1273 & 0.1197 & 0.0817\\\\\n",
       "\\end{tabular}\n"
      ],
      "text/markdown": [
       "1. 0.0351\n",
       "2. 0.0486\n",
       "3. 0.0513\n",
       "4. 0.0871\n",
       "5. 0.1206\n",
       "6. 0.1273\n",
       "7. 0.0819\n",
       "8. 0.1134\n",
       "9. 0.1197\n",
       "10. 0.0559\n",
       "11. 0.0774\n",
       "12. 0.0817\n",
       "\n",
       "\n"
      ],
      "text/plain": [
       "         B1     B2     B3     B4\n",
       "[1,] 0.0351 0.0871 0.0819 0.0559\n",
       "[2,] 0.0486 0.1206 0.1134 0.0774\n",
       "[3,] 0.0513 0.1273 0.1197 0.0817"
      ]
     },
     "execution_count": 7,
     "metadata": {},
     "output_type": "execute_result"
    }
   ],
   "source": [
    "p_ij <- p_i %*% t(p_j)\n",
    "p_ij"
   ]
  },
  {
   "cell_type": "code",
   "execution_count": 8,
   "metadata": {
    "collapsed": false
   },
   "outputs": [
    {
     "data": {
      "text/html": [
       "<table>\n",
       "<thead><tr><th></th><th scope=col>B1</th><th scope=col>B2</th><th scope=col>B3</th><th scope=col>B4</th></tr></thead>\n",
       "<tbody>\n",
       "\t<tr><th scope=row>A1</th><td>1.2650142</td><td>0.7357290</td><td>0.1162637</td><td>2.4000358</td></tr>\n",
       "\t<tr><th scope=row>A2</th><td>0.1685597</td><td>0.3438806</td><td>0.1244444</td><td>0.3973127</td></tr>\n",
       "\t<tr><th scope=row>A3</th><td>1.7687719</td><td>1.6391045</td><td>0.3911278</td><td>3.5909180</td></tr>\n",
       "</tbody>\n",
       "</table>\n"
      ],
      "text/latex": [
       "\\begin{tabular}{r|llll}\n",
       "  & B1 & B2 & B3 & B4\\\\\n",
       "\\hline\n",
       "\tA1 & 1.2650142 & 0.7357290 & 0.1162637 & 2.4000358\\\\\n",
       "\tA2 & 0.1685597 & 0.3438806 & 0.1244444 & 0.3973127\\\\\n",
       "\tA3 & 1.7687719 & 1.6391045 & 0.3911278 & 3.5909180\\\\\n",
       "\\end{tabular}\n"
      ],
      "text/markdown": [
       "1. 1.26501424501424\n",
       "2. 0.168559670781893\n",
       "3. 1.76877192982456\n",
       "4. 0.73572904707233\n",
       "5. 0.343880597014925\n",
       "6. 1.63910447761194\n",
       "7. 0.116263736263736\n",
       "8. 0.124444444444444\n",
       "9. 0.391127819548872\n",
       "10. 2.40003577817531\n",
       "11. 0.397312661498708\n",
       "12. 3.59091799265606\n",
       "\n",
       "\n"
      ],
      "text/plain": [
       "          B1        B2        B3        B4\n",
       "A1 1.2650142 0.7357290 0.1162637 2.4000358\n",
       "A2 0.1685597 0.3438806 0.1244444 0.3973127\n",
       "A3 1.7687719 1.6391045 0.3911278 3.5909180"
      ]
     },
     "execution_count": 8,
     "metadata": {},
     "output_type": "execute_result"
    }
   ],
   "source": [
    "Q_ij <- (data - n*p_ij)^2/(n * p_ij)\n",
    "Q_ij"
   ]
  },
  {
   "cell_type": "code",
   "execution_count": 9,
   "metadata": {
    "collapsed": false
   },
   "outputs": [
    {
     "data": {
      "text/html": [
       "12.941162399907"
      ],
      "text/latex": [
       "12.941162399907"
      ],
      "text/markdown": [
       "12.941162399907"
      ],
      "text/plain": [
       "[1] 12.94116"
      ]
     },
     "execution_count": 9,
     "metadata": {},
     "output_type": "execute_result"
    }
   ],
   "source": [
    "sum(Q_ij)"
   ]
  },
  {
   "cell_type": "code",
   "execution_count": 10,
   "metadata": {
    "collapsed": false
   },
   "outputs": [
    {
     "data": {
      "text/html": [
       "12.591587243744"
      ],
      "text/latex": [
       "12.591587243744"
      ],
      "text/markdown": [
       "12.591587243744"
      ],
      "text/plain": [
       "[1] 12.59159"
      ]
     },
     "execution_count": 10,
     "metadata": {},
     "output_type": "execute_result"
    }
   ],
   "source": [
    "qchisq(1-alpha, (a-1)*(b-1))"
   ]
  },
  {
   "cell_type": "markdown",
   "metadata": {},
   "source": [
    "$Q > \\chi^2 \\implies$ H0 wird verworfen"
   ]
  }
 ],
 "metadata": {
  "kernelspec": {
   "display_name": "R",
   "language": "R",
   "name": "ir"
  },
  "language_info": {
   "codemirror_mode": "r",
   "file_extension": ".r",
   "mimetype": "text/x-r-source",
   "name": "R",
   "pygments_lexer": "r",
   "version": "3.2.4"
  }
 },
 "nbformat": 4,
 "nbformat_minor": 0
}
