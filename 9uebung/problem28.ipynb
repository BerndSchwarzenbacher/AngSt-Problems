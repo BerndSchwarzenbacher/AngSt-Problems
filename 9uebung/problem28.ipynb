{
 "cells": [
  {
   "cell_type": "markdown",
   "metadata": {},
   "source": [
    "## a)"
   ]
  },
  {
   "cell_type": "code",
   "execution_count": 1,
   "metadata": {
    "collapsed": false
   },
   "outputs": [],
   "source": [
    "alpha <- 0.05\n",
    "n <- 10000\n",
    "rate <- c(968, 1026, 1021, 975, 1012, 1046, 1021, 969, 948, 1014)\n",
    "df <- data.frame(Ziffer=0:9, Häufigkeit=rate)"
   ]
  },
  {
   "cell_type": "code",
   "execution_count": 2,
   "metadata": {
    "collapsed": false
   },
   "outputs": [
    {
     "data": {
      "text/html": [
       "<table>\n",
       "<thead><tr><th></th><th scope=col>Ziffer</th><th scope=col>Häufigkeit</th><th scope=col>p</th><th scope=col>n_p</th><th scope=col>chisq_comp</th></tr></thead>\n",
       "<tbody>\n",
       "\t<tr><th scope=row>1</th><td>0</td><td>968</td><td>0.1</td><td>1000</td><td>1.024</td></tr>\n",
       "\t<tr><th scope=row>2</th><td>1</td><td>1026</td><td>0.1</td><td>1000</td><td>0.676</td></tr>\n",
       "\t<tr><th scope=row>3</th><td>2</td><td>1021</td><td>0.1</td><td>1000</td><td>0.441</td></tr>\n",
       "\t<tr><th scope=row>4</th><td>3</td><td>975</td><td>0.1</td><td>1000</td><td>0.625</td></tr>\n",
       "\t<tr><th scope=row>5</th><td>4</td><td>1012</td><td>0.1</td><td>1000</td><td>0.144</td></tr>\n",
       "\t<tr><th scope=row>6</th><td>5</td><td>1046</td><td>0.1</td><td>1000</td><td>2.116</td></tr>\n",
       "\t<tr><th scope=row>7</th><td>6</td><td>1021</td><td>0.1</td><td>1000</td><td>0.441</td></tr>\n",
       "\t<tr><th scope=row>8</th><td>7</td><td>969</td><td>0.1</td><td>1000</td><td>0.961</td></tr>\n",
       "\t<tr><th scope=row>9</th><td>8</td><td>948</td><td>0.1</td><td>1000</td><td>2.704</td></tr>\n",
       "\t<tr><th scope=row>10</th><td>9</td><td>1014</td><td>0.1</td><td>1000</td><td>0.196</td></tr>\n",
       "</tbody>\n",
       "</table>\n"
      ],
      "text/latex": [
       "\\begin{tabular}{r|lllll}\n",
       "  & Ziffer & Häufigkeit & p & n_p & chisq_comp\\\\\n",
       "\\hline\n",
       "\t1 & 0 & 968 & 0.1 & 1000 & 1.024\\\\\n",
       "\t2 & 1 & 1026 & 0.1 & 1000 & 0.676\\\\\n",
       "\t3 & 2 & 1021 & 0.1 & 1000 & 0.441\\\\\n",
       "\t4 & 3 & 975 & 0.1 & 1000 & 0.625\\\\\n",
       "\t5 & 4 & 1012 & 0.1 & 1000 & 0.144\\\\\n",
       "\t6 & 5 & 1046 & 0.1 & 1000 & 2.116\\\\\n",
       "\t7 & 6 & 1021 & 0.1 & 1000 & 0.441\\\\\n",
       "\t8 & 7 & 969 & 0.1 & 1000 & 0.961\\\\\n",
       "\t9 & 8 & 948 & 0.1 & 1000 & 2.704\\\\\n",
       "\t10 & 9 & 1014 & 0.1 & 1000 & 0.196\\\\\n",
       "\\end{tabular}\n"
      ],
      "text/plain": [
       "   Ziffer Häufigkeit   p  n_p chisq_comp\n",
       "1       0        968 0.1 1000      1.024\n",
       "2       1       1026 0.1 1000      0.676\n",
       "3       2       1021 0.1 1000      0.441\n",
       "4       3        975 0.1 1000      0.625\n",
       "5       4       1012 0.1 1000      0.144\n",
       "6       5       1046 0.1 1000      2.116\n",
       "7       6       1021 0.1 1000      0.441\n",
       "8       7        969 0.1 1000      0.961\n",
       "9       8        948 0.1 1000      2.704\n",
       "10      9       1014 0.1 1000      0.196"
      ]
     },
     "execution_count": 2,
     "metadata": {},
     "output_type": "execute_result"
    }
   ],
   "source": [
    "nc <- 10\n",
    "p_hat = 1/nc\n",
    "n_p = n * p_hat\n",
    "chisq_comp = (df$Häufigkeit - n_p)^2 / n_p\n",
    "df <- data.frame(df, p=p_hat, n_p=n_p, chisq_comp=chisq_comp)\n",
    "df"
   ]
  },
  {
   "cell_type": "code",
   "execution_count": 3,
   "metadata": {
    "collapsed": false
   },
   "outputs": [
    {
     "data": {
      "text/html": [
       "9.328"
      ],
      "text/latex": [
       "9.328"
      ],
      "text/markdown": [
       "9.328"
      ],
      "text/plain": [
       "[1] 9.328"
      ]
     },
     "execution_count": 3,
     "metadata": {},
     "output_type": "execute_result"
    }
   ],
   "source": [
    "Q <- sum(chisq_comp)\n",
    "Q"
   ]
  },
  {
   "cell_type": "code",
   "execution_count": 4,
   "metadata": {
    "collapsed": false
   },
   "outputs": [
    {
     "data": {
      "text/html": [
       "16.9189776046205"
      ],
      "text/latex": [
       "16.9189776046205"
      ],
      "text/markdown": [
       "16.9189776046205"
      ],
      "text/plain": [
       "[1] 16.91898"
      ]
     },
     "execution_count": 4,
     "metadata": {},
     "output_type": "execute_result"
    }
   ],
   "source": [
    "dof <- nc-1\n",
    "chi <- qchisq(1-alpha, dof)\n",
    "chi"
   ]
  },
  {
   "cell_type": "markdown",
   "metadata": {},
   "source": [
    "$Q \\ngtr \\chi \\implies$ H0 wird nicht verworfen"
   ]
  },
  {
   "cell_type": "markdown",
   "metadata": {},
   "source": [
    "## b)"
   ]
  },
  {
   "cell_type": "code",
   "execution_count": 5,
   "metadata": {
    "collapsed": false
   },
   "outputs": [],
   "source": [
    "pi <- scan(\"pi10000.txt\")"
   ]
  },
  {
   "cell_type": "code",
   "execution_count": 6,
   "metadata": {
    "collapsed": false
   },
   "outputs": [
    {
     "data": {
      "text/plain": [
       "\n",
       "\tChi-squared test for given probabilities\n",
       "\n",
       "data:  table(pi)\n",
       "X-squared = 9.328, df = 9, p-value = 0.4076\n"
      ]
     },
     "execution_count": 6,
     "metadata": {},
     "output_type": "execute_result"
    }
   ],
   "source": [
    "chisq.test(table(pi), p=rep(0.1, 10))"
   ]
  }
 ],
 "metadata": {
  "kernelspec": {
   "display_name": "R",
   "language": "R",
   "name": "ir"
  },
  "language_info": {
   "codemirror_mode": "r",
   "file_extension": ".r",
   "mimetype": "text/x-r-source",
   "name": "R",
   "pygments_lexer": "r",
   "version": "3.2.4"
  }
 },
 "nbformat": 4,
 "nbformat_minor": 0
}
