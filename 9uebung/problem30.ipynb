{
 "cells": [
  {
   "cell_type": "code",
   "execution_count": 1,
   "metadata": {
    "collapsed": true
   },
   "outputs": [],
   "source": [
    "alpha <- 0.05"
   ]
  },
  {
   "cell_type": "code",
   "execution_count": 2,
   "metadata": {
    "collapsed": false
   },
   "outputs": [
    {
     "data": {
      "text/html": [
       "<table>\n",
       "<thead><tr><th></th><th scope=col>I</th><th scope=col>II</th></tr></thead>\n",
       "<tbody>\n",
       "\t<tr><th scope=row>1</th><td>15</td><td>9</td></tr>\n",
       "\t<tr><th scope=row>2</th><td>25</td><td>18</td></tr>\n",
       "\t<tr><th scope=row>3</th><td>32</td><td>29</td></tr>\n",
       "\t<tr><th scope=row>4</th><td>17</td><td>28</td></tr>\n",
       "\t<tr><th scope=row>5</th><td>11</td><td>16</td></tr>\n",
       "</tbody>\n",
       "</table>\n"
      ],
      "text/latex": [
       "\\begin{tabular}{r|ll}\n",
       "  & I & II\\\\\n",
       "\\hline\n",
       "\t1 & 15 & 9\\\\\n",
       "\t2 & 25 & 18\\\\\n",
       "\t3 & 32 & 29\\\\\n",
       "\t4 & 17 & 28\\\\\n",
       "\t5 & 11 & 16\\\\\n",
       "\\end{tabular}\n"
      ],
      "text/plain": [
       "   I II\n",
       "1 15  9\n",
       "2 25 18\n",
       "3 32 29\n",
       "4 17 28\n",
       "5 11 16"
      ]
     },
     "execution_count": 2,
     "metadata": {},
     "output_type": "execute_result"
    }
   ],
   "source": [
    "data <- data.frame(I=c(15, 25, 32, 17, 11), II=c(9, 18, 29, 28, 16))\n",
    "data"
   ]
  },
  {
   "cell_type": "code",
   "execution_count": 3,
   "metadata": {
    "collapsed": false
   },
   "outputs": [
    {
     "data": {
      "text/html": [
       "<dl class=dl-horizontal>\n",
       "\t<dt>J</dt>\n",
       "\t\t<dd>2</dd>\n",
       "\t<dt>nj.I</dt>\n",
       "\t\t<dd>100</dd>\n",
       "\t<dt>nj.II</dt>\n",
       "\t\t<dd>100</dd>\n",
       "\t<dt>n</dt>\n",
       "\t\t<dd>200</dd>\n",
       "\t<dt>k</dt>\n",
       "\t\t<dd>5</dd>\n",
       "</dl>\n"
      ],
      "text/latex": [
       "\\begin{description*}\n",
       "\\item[J] 2\n",
       "\\item[nj.I] 100\n",
       "\\item[nj.II] 100\n",
       "\\item[n] 200\n",
       "\\item[k] 5\n",
       "\\end{description*}\n"
      ],
      "text/markdown": [
       "J\n",
       ":   2nj.I\n",
       ":   100nj.II\n",
       ":   100n\n",
       ":   200k\n",
       ":   5\n",
       "\n"
      ],
      "text/plain": [
       "    J  nj.I nj.II     n     k \n",
       "    2   100   100   200     5 "
      ]
     },
     "execution_count": 3,
     "metadata": {},
     "output_type": "execute_result"
    }
   ],
   "source": [
    "J <- length(data)\n",
    "nj <- colSums(data)\n",
    "n <- sum(nj)\n",
    "k <- nrow(data)\n",
    "c(J=J, nj=nj, n=n, k=k)"
   ]
  },
  {
   "cell_type": "code",
   "execution_count": 4,
   "metadata": {
    "collapsed": false
   },
   "outputs": [
    {
     "data": {
      "text/html": [
       "<ol class=list-inline>\n",
       "\t<li>0.12</li>\n",
       "\t<li>0.215</li>\n",
       "\t<li>0.305</li>\n",
       "\t<li>0.225</li>\n",
       "\t<li>0.135</li>\n",
       "</ol>\n"
      ],
      "text/latex": [
       "\\begin{enumerate*}\n",
       "\\item 0.12\n",
       "\\item 0.215\n",
       "\\item 0.305\n",
       "\\item 0.225\n",
       "\\item 0.135\n",
       "\\end{enumerate*}\n"
      ],
      "text/markdown": [
       "1. 0.12\n",
       "2. 0.215\n",
       "3. 0.305\n",
       "4. 0.225\n",
       "5. 0.135\n",
       "\n",
       "\n"
      ],
      "text/plain": [
       "[1] 0.120 0.215 0.305 0.225 0.135"
      ]
     },
     "execution_count": 4,
     "metadata": {},
     "output_type": "execute_result"
    }
   ],
   "source": [
    "pi <- 1/n * rowSums(data)\n",
    "pi"
   ]
  },
  {
   "cell_type": "code",
   "execution_count": 5,
   "metadata": {
    "collapsed": false
   },
   "outputs": [
    {
     "data": {
      "text/html": [
       "3.20094534107115"
      ],
      "text/latex": [
       "3.20094534107115"
      ],
      "text/markdown": [
       "3.20094534107115"
      ],
      "text/plain": [
       "[1] 3.200945"
      ]
     },
     "execution_count": 5,
     "metadata": {},
     "output_type": "execute_result"
    }
   ],
   "source": [
    "QI <- sum((data$I - nj[1]*pi)^2/(nj[1]*pi))\n",
    "QI"
   ]
  },
  {
   "cell_type": "code",
   "execution_count": 6,
   "metadata": {
    "collapsed": false
   },
   "outputs": [
    {
     "data": {
      "text/html": [
       "3.20094534107115"
      ],
      "text/latex": [
       "3.20094534107115"
      ],
      "text/markdown": [
       "3.20094534107115"
      ],
      "text/plain": [
       "[1] 3.200945"
      ]
     },
     "execution_count": 6,
     "metadata": {},
     "output_type": "execute_result"
    }
   ],
   "source": [
    "QII <- sum((data$II - nj[2]*pi)^2/(nj[2]*pi))\n",
    "QII"
   ]
  },
  {
   "cell_type": "code",
   "execution_count": 7,
   "metadata": {
    "collapsed": false
   },
   "outputs": [
    {
     "data": {
      "text/html": [
       "6.4018906821423"
      ],
      "text/latex": [
       "6.4018906821423"
      ],
      "text/markdown": [
       "6.4018906821423"
      ],
      "text/plain": [
       "[1] 6.401891"
      ]
     },
     "execution_count": 7,
     "metadata": {},
     "output_type": "execute_result"
    }
   ],
   "source": [
    "Q <- QI + QII\n",
    "Q"
   ]
  },
  {
   "cell_type": "code",
   "execution_count": 8,
   "metadata": {
    "collapsed": false
   },
   "outputs": [
    {
     "data": {
      "text/html": [
       "9.48772903678115"
      ],
      "text/latex": [
       "9.48772903678115"
      ],
      "text/markdown": [
       "9.48772903678115"
      ],
      "text/plain": [
       "[1] 9.487729"
      ]
     },
     "execution_count": 8,
     "metadata": {},
     "output_type": "execute_result"
    }
   ],
   "source": [
    "qchisq(1-alpha, (J-1)*(k-1))"
   ]
  },
  {
   "cell_type": "markdown",
   "metadata": {},
   "source": [
    "$Q \\ngtr \\chi^2 \\implies$ H0 wird nicht verworfen"
   ]
  }
 ],
 "metadata": {
  "kernelspec": {
   "display_name": "R",
   "language": "R",
   "name": "ir"
  },
  "language_info": {
   "codemirror_mode": "r",
   "file_extension": ".r",
   "mimetype": "text/x-r-source",
   "name": "R",
   "pygments_lexer": "r",
   "version": "3.2.4"
  }
 },
 "nbformat": 4,
 "nbformat_minor": 0
}
