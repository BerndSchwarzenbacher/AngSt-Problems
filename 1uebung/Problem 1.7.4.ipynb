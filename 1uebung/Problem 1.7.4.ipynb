{
 "cells": [
  {
   "cell_type": "markdown",
   "metadata": {},
   "source": [
    "## Options"
   ]
  },
  {
   "cell_type": "code",
   "execution_count": 1,
   "metadata": {
    "collapsed": false
   },
   "outputs": [],
   "source": [
    "alpha <- 0.05\n",
    "p <- 0.4\n",
    "sampleSize <- 1000"
   ]
  },
  {
   "cell_type": "code",
   "execution_count": 2,
   "metadata": {
    "collapsed": false
   },
   "outputs": [],
   "source": [
    "startExp <- 0\n",
    "endExp <- 4"
   ]
  },
  {
   "cell_type": "markdown",
   "metadata": {},
   "source": [
    "## Functions"
   ]
  },
  {
   "cell_type": "code",
   "execution_count": 3,
   "metadata": {
    "collapsed": false
   },
   "outputs": [],
   "source": [
    "IsInInterval <- function(center, width, x) {\n",
    "    # Return TRUE if x is in interval (center-width, center+width)\n",
    "    return ((center - width) < x && x < (center + width))\n",
    "}"
   ]
  },
  {
   "cell_type": "code",
   "execution_count": 4,
   "metadata": {
    "collapsed": false
   },
   "outputs": [],
   "source": [
    "CntBernoulliOverlap <- function(n, p, sampleSize, alpha) {\n",
    "    # Return how often the Bernoulli-parameter p is in interval\n",
    "    #\n",
    "    # Args:\n",
    "    #   n: Bernoulli Trials\n",
    "    #   p: Bernoulli-parameter\n",
    "    #   sampleSize:\n",
    "    #   alpha:\n",
    "    eps <- sqrt(1/(2*n) * log(2/alpha))\n",
    "    \n",
    "    sampleBernSum <- rbinom(sampleSize, n, p)\n",
    "    sampleMean <- sampleBernSum / n\n",
    "\n",
    "    sampleInInterval <- sapply(sampleMean, IsInInterval, width=eps, x=p)\n",
    "    return (sum(sampleInInterval))\n",
    "}"
   ]
  },
  {
   "cell_type": "markdown",
   "metadata": {},
   "source": [
    "## Setup"
   ]
  },
  {
   "cell_type": "code",
   "execution_count": 5,
   "metadata": {
    "collapsed": false
   },
   "outputs": [
    {
     "data": {
      "text/html": [
       "<ol class=list-inline>\n",
       "\t<li>1</li>\n",
       "\t<li>10</li>\n",
       "\t<li>100</li>\n",
       "\t<li>1000</li>\n",
       "\t<li>10000</li>\n",
       "</ol>\n"
      ],
      "text/latex": [
       "\\begin{enumerate*}\n",
       "\\item 1\n",
       "\\item 10\n",
       "\\item 100\n",
       "\\item 1000\n",
       "\\item 10000\n",
       "\\end{enumerate*}\n"
      ],
      "text/markdown": [
       "1. 1\n",
       "2. 10\n",
       "3. 100\n",
       "4. 1000\n",
       "5. 10000\n",
       "\n",
       "\n"
      ],
      "text/plain": [
       "[1]     1    10   100  1000 10000"
      ]
     },
     "execution_count": 5,
     "metadata": {},
     "output_type": "execute_result"
    }
   ],
   "source": [
    "ns <- 10^(startExp:endExp)\n",
    "ns"
   ]
  },
  {
   "cell_type": "markdown",
   "metadata": {},
   "source": [
    "## Simulation"
   ]
  },
  {
   "cell_type": "code",
   "execution_count": 6,
   "metadata": {
    "collapsed": false
   },
   "outputs": [
    {
     "data": {
      "text/html": [
       "<ol class=list-inline>\n",
       "\t<li>1000</li>\n",
       "\t<li>998</li>\n",
       "\t<li>996</li>\n",
       "\t<li>993</li>\n",
       "\t<li>994</li>\n",
       "</ol>\n"
      ],
      "text/latex": [
       "\\begin{enumerate*}\n",
       "\\item 1000\n",
       "\\item 998\n",
       "\\item 996\n",
       "\\item 993\n",
       "\\item 994\n",
       "\\end{enumerate*}\n"
      ],
      "text/markdown": [
       "1. 1000\n",
       "2. 998\n",
       "3. 996\n",
       "4. 993\n",
       "5. 994\n",
       "\n",
       "\n"
      ],
      "text/plain": [
       "[1] 1000  998  996  993  994"
      ]
     },
     "execution_count": 6,
     "metadata": {},
     "output_type": "execute_result"
    }
   ],
   "source": [
    "counts <- sapply(ns, CntBernoulliOverlap, p=p, sampleSize=sampleSize, alpha=alpha) \n",
    "counts"
   ]
  },
  {
   "cell_type": "markdown",
   "metadata": {},
   "source": [
    "## Results-Plots"
   ]
  },
  {
   "cell_type": "code",
   "execution_count": 7,
   "metadata": {
    "collapsed": false
   },
   "outputs": [
    {
     "name": "stderr",
     "output_type": "stream",
     "text": [
      "Loading required package: ggplot2\n"
     ]
    }
   ],
   "source": [
    "require('ggplot2')"
   ]
  },
  {
   "cell_type": "code",
   "execution_count": 8,
   "metadata": {
    "collapsed": false
   },
   "outputs": [
    {
     "data": {
      "image/png": "[encoded data removed]",
      "image/svg+xml": [
       "<?xml version=\"1.0\" encoding=\"UTF-8\"?>\n",
       "<svg xmlns=\"http://www.w3.org/2000/svg\" xmlns:xlink=\"http://www.w3.org/1999/xlink\" width=\"504pt\" height=\"504pt\" viewBox=\"0 0 504 504\" version=\"1.1\">\n",
       "<defs>\n",
       "<g>\n",
       "<symbol overflow=\"visible\" id=\"glyph0-0\">\n",
       "<path style=\"stroke:none;\" d=\"M 0.59375 2.125 L 0.59375 -8.46875 L 6.59375 -8.46875 L 6.59375 2.125 Z M 1.265625 1.453125 L 5.9375 1.453125 L 5.9375 -7.78125 L 1.265625 -7.78125 Z M 1.265625 1.453125 \"/>\n",
       "</symbol>\n",
       "<symbol overflow=\"visible\" id=\"glyph0-1\">\n",
       "<path style=\"stroke:none;\" d=\"M 1.484375 -1 L 3.421875 -1 L 3.421875 -7.671875 L 1.3125 -7.25 L 1.3125 -8.328125 L 3.40625 -8.75 L 4.59375 -8.75 L 4.59375 -1 L 6.53125 -1 L 6.53125 0 L 1.484375 0 Z M 1.484375 -1 \"/>\n",
       "</symbol>\n",
       "<symbol overflow=\"visible\" id=\"glyph0-2\">\n",
       "<path style=\"stroke:none;\" d=\"M 3.8125 -7.96875 C 3.207031 -7.96875 2.75 -7.664062 2.4375 -7.0625 C 2.132812 -6.46875 1.984375 -5.566406 1.984375 -4.359375 C 1.984375 -3.160156 2.132812 -2.257812 2.4375 -1.65625 C 2.75 -1.0625 3.207031 -0.765625 3.8125 -0.765625 C 4.425781 -0.765625 4.882812 -1.0625 5.1875 -1.65625 C 5.5 -2.257812 5.65625 -3.160156 5.65625 -4.359375 C 5.65625 -5.566406 5.5 -6.46875 5.1875 -7.0625 C 4.882812 -7.664062 4.425781 -7.96875 3.8125 -7.96875 Z M 3.8125 -8.90625 C 4.789062 -8.90625 5.539062 -8.515625 6.0625 -7.734375 C 6.582031 -6.960938 6.84375 -5.835938 6.84375 -4.359375 C 6.84375 -2.890625 6.582031 -1.765625 6.0625 -0.984375 C 5.539062 -0.210938 4.789062 0.171875 3.8125 0.171875 C 2.832031 0.171875 2.082031 -0.210938 1.5625 -0.984375 C 1.050781 -1.765625 0.796875 -2.890625 0.796875 -4.359375 C 0.796875 -5.835938 1.050781 -6.960938 1.5625 -7.734375 C 2.082031 -8.515625 2.832031 -8.90625 3.8125 -8.90625 Z M 3.8125 -8.90625 \"/>\n",
       "</symbol>\n",
       "<symbol overflow=\"visible\" id=\"glyph0-3\">\n",
       "<path style=\"stroke:none;\" d=\"M 6.59375 -3.96875 L 6.59375 0 L 5.515625 0 L 5.515625 -3.921875 C 5.515625 -4.546875 5.390625 -5.007812 5.140625 -5.3125 C 4.898438 -5.625 4.539062 -5.78125 4.0625 -5.78125 C 3.476562 -5.78125 3.015625 -5.59375 2.671875 -5.21875 C 2.335938 -4.851562 2.171875 -4.347656 2.171875 -3.703125 L 2.171875 0 L 1.09375 0 L 1.09375 -6.5625 L 2.171875 -6.5625 L 2.171875 -5.546875 C 2.429688 -5.941406 2.734375 -6.234375 3.078125 -6.421875 C 3.429688 -6.617188 3.835938 -6.71875 4.296875 -6.71875 C 5.046875 -6.71875 5.613281 -6.484375 6 -6.015625 C 6.394531 -5.554688 6.59375 -4.875 6.59375 -3.96875 Z M 6.59375 -3.96875 \"/>\n",
       "</symbol>\n",
       "<symbol overflow=\"visible\" id=\"glyph0-4\">\n",
       "<path style=\"stroke:none;\" d=\"M 5.3125 -6.375 L 5.3125 -5.34375 C 5.007812 -5.5 4.691406 -5.613281 4.359375 -5.6875 C 4.035156 -5.769531 3.695312 -5.8125 3.34375 -5.8125 C 2.8125 -5.8125 2.410156 -5.726562 2.140625 -5.5625 C 1.867188 -5.40625 1.734375 -5.160156 1.734375 -4.828125 C 1.734375 -4.578125 1.828125 -4.378906 2.015625 -4.234375 C 2.210938 -4.097656 2.601562 -3.96875 3.1875 -3.84375 L 3.546875 -3.75 C 4.316406 -3.59375 4.863281 -3.363281 5.1875 -3.0625 C 5.507812 -2.757812 5.671875 -2.34375 5.671875 -1.8125 C 5.671875 -1.195312 5.425781 -0.710938 4.9375 -0.359375 C 4.457031 -0.00390625 3.796875 0.171875 2.953125 0.171875 C 2.597656 0.171875 2.226562 0.132812 1.84375 0.0625 C 1.46875 0 1.070312 -0.0976562 0.65625 -0.234375 L 0.65625 -1.359375 C 1.050781 -1.148438 1.441406 -0.992188 1.828125 -0.890625 C 2.210938 -0.785156 2.597656 -0.734375 2.984375 -0.734375 C 3.484375 -0.734375 3.867188 -0.816406 4.140625 -0.984375 C 4.421875 -1.160156 4.5625 -1.410156 4.5625 -1.734375 C 4.5625 -2.023438 4.460938 -2.25 4.265625 -2.40625 C 4.066406 -2.5625 3.632812 -2.710938 2.96875 -2.859375 L 2.59375 -2.9375 C 1.925781 -3.082031 1.441406 -3.300781 1.140625 -3.59375 C 0.847656 -3.882812 0.703125 -4.28125 0.703125 -4.78125 C 0.703125 -5.40625 0.921875 -5.882812 1.359375 -6.21875 C 1.796875 -6.550781 2.414062 -6.71875 3.21875 -6.71875 C 3.613281 -6.71875 3.988281 -6.6875 4.34375 -6.625 C 4.695312 -6.570312 5.019531 -6.488281 5.3125 -6.375 Z M 5.3125 -6.375 \"/>\n",
       "</symbol>\n",
       "<symbol overflow=\"visible\" id=\"glyph1-0\">\n",
       "<path style=\"stroke:none;\" d=\"M 2.125 -0.59375 L -8.46875 -0.59375 L -8.46875 -6.59375 L 2.125 -6.59375 Z M 1.453125 -1.265625 L 1.453125 -5.9375 L -7.78125 -5.9375 L -7.78125 -1.265625 Z M 1.453125 -1.265625 \"/>\n",
       "</symbol>\n",
       "<symbol overflow=\"visible\" id=\"glyph1-1\">\n",
       "<path style=\"stroke:none;\" d=\"M -0.1875 -1.3125 L -1.265625 -1.3125 C -1.117188 -1.613281 -1.007812 -1.914062 -0.9375 -2.21875 C -0.863281 -2.519531 -0.828125 -2.820312 -0.828125 -3.125 C -0.828125 -3.90625 -1.085938 -4.5 -1.609375 -4.90625 C -2.140625 -5.320312 -2.941406 -5.554688 -4.015625 -5.609375 C -3.671875 -5.390625 -3.410156 -5.101562 -3.234375 -4.75 C -3.054688 -4.40625 -2.96875 -4.019531 -2.96875 -3.59375 C -2.96875 -2.71875 -3.226562 -2.023438 -3.75 -1.515625 C -4.28125 -1.003906 -5.007812 -0.75 -5.9375 -0.75 C -6.832031 -0.75 -7.550781 -1.015625 -8.09375 -1.546875 C -8.632812 -2.078125 -8.90625 -2.785156 -8.90625 -3.671875 C -8.90625 -4.679688 -8.515625 -5.453125 -7.734375 -5.984375 C -6.960938 -6.523438 -5.835938 -6.796875 -4.359375 -6.796875 C -2.984375 -6.796875 -1.882812 -6.46875 -1.0625 -5.8125 C -0.238281 -5.15625 0.171875 -4.273438 0.171875 -3.171875 C 0.171875 -2.867188 0.140625 -2.566406 0.078125 -2.265625 C 0.0234375 -1.960938 -0.0625 -1.644531 -0.1875 -1.3125 Z M -3.890625 -3.671875 C -3.890625 -4.203125 -4.070312 -4.625 -4.4375 -4.9375 C -4.800781 -5.25 -5.300781 -5.40625 -5.9375 -5.40625 C -6.5625 -5.40625 -7.054688 -5.25 -7.421875 -4.9375 C -7.785156 -4.625 -7.96875 -4.203125 -7.96875 -3.671875 C -7.96875 -3.140625 -7.785156 -2.71875 -7.421875 -2.40625 C -7.054688 -2.101562 -6.5625 -1.953125 -5.9375 -1.953125 C -5.300781 -1.953125 -4.800781 -2.101562 -4.4375 -2.40625 C -4.070312 -2.71875 -3.890625 -3.140625 -3.890625 -3.671875 Z M -3.890625 -3.671875 \"/>\n",
       "</symbol>\n",
       "<symbol overflow=\"visible\" id=\"glyph1-2\">\n",
       "<path style=\"stroke:none;\" d=\"M -4.71875 -4.875 C -4.59375 -5.4375 -4.335938 -5.875 -3.953125 -6.1875 C -3.578125 -6.507812 -3.109375 -6.671875 -2.546875 -6.671875 C -1.679688 -6.671875 -1.007812 -6.375 -0.53125 -5.78125 C -0.0625 -5.1875 0.171875 -4.34375 0.171875 -3.25 C 0.171875 -2.882812 0.132812 -2.503906 0.0625 -2.109375 C -0.0078125 -1.722656 -0.117188 -1.328125 -0.265625 -0.921875 L -1.40625 -0.921875 C -1.21875 -1.242188 -1.070312 -1.597656 -0.96875 -1.984375 C -0.875 -2.378906 -0.828125 -2.789062 -0.828125 -3.21875 C -0.828125 -3.957031 -0.972656 -4.519531 -1.265625 -4.90625 C -1.554688 -5.300781 -1.984375 -5.5 -2.546875 -5.5 C -3.054688 -5.5 -3.457031 -5.316406 -3.75 -4.953125 C -4.039062 -4.585938 -4.1875 -4.085938 -4.1875 -3.453125 L -4.1875 -2.421875 L -5.15625 -2.421875 L -5.15625 -3.5 C -5.15625 -4.070312 -5.269531 -4.515625 -5.5 -4.828125 C -5.738281 -5.140625 -6.078125 -5.296875 -6.515625 -5.296875 C -6.960938 -5.296875 -7.304688 -5.132812 -7.546875 -4.8125 C -7.785156 -4.5 -7.90625 -4.046875 -7.90625 -3.453125 C -7.90625 -3.117188 -7.867188 -2.765625 -7.796875 -2.390625 C -7.734375 -2.023438 -7.628906 -1.617188 -7.484375 -1.171875 L -8.53125 -1.171875 C -8.65625 -1.628906 -8.75 -2.050781 -8.8125 -2.4375 C -8.875 -2.832031 -8.90625 -3.203125 -8.90625 -3.546875 C -8.90625 -4.453125 -8.703125 -5.164062 -8.296875 -5.6875 C -7.890625 -6.207031 -7.335938 -6.46875 -6.640625 -6.46875 C -6.148438 -6.46875 -5.738281 -6.328125 -5.40625 -6.046875 C -5.070312 -5.773438 -4.84375 -5.382812 -4.71875 -4.875 Z M -4.71875 -4.875 \"/>\n",
       "</symbol>\n",
       "<symbol overflow=\"visible\" id=\"glyph1-3\">\n",
       "<path style=\"stroke:none;\" d=\"M -7.71875 -4.53125 L -3.046875 -1.546875 L -3.046875 -4.53125 Z M -8.75 -4.21875 L -8.75 -5.71875 L -3.046875 -5.71875 L -3.046875 -6.96875 L -2.0625 -6.96875 L -2.0625 -5.71875 L 0 -5.71875 L 0 -4.53125 L -2.0625 -4.53125 L -2.0625 -0.59375 L -3.203125 -0.59375 Z M -8.75 -4.21875 \"/>\n",
       "</symbol>\n",
       "<symbol overflow=\"visible\" id=\"glyph1-4\">\n",
       "<path style=\"stroke:none;\" d=\"M -8.75 -1.296875 L -8.75 -5.9375 L -7.75 -5.9375 L -7.75 -2.375 L -5.609375 -2.375 C -5.671875 -2.550781 -5.710938 -2.722656 -5.734375 -2.890625 C -5.765625 -3.066406 -5.78125 -3.238281 -5.78125 -3.40625 C -5.78125 -4.382812 -5.507812 -5.160156 -4.96875 -5.734375 C -4.4375 -6.304688 -3.71875 -6.59375 -2.8125 -6.59375 C -1.863281 -6.59375 -1.128906 -6.296875 -0.609375 -5.703125 C -0.0859375 -5.117188 0.171875 -4.296875 0.171875 -3.234375 C 0.171875 -2.859375 0.140625 -2.476562 0.078125 -2.09375 C 0.015625 -1.71875 -0.078125 -1.328125 -0.203125 -0.921875 L -1.390625 -0.921875 C -1.203125 -1.273438 -1.0625 -1.640625 -0.96875 -2.015625 C -0.875 -2.390625 -0.828125 -2.785156 -0.828125 -3.203125 C -0.828125 -3.878906 -1.003906 -4.414062 -1.359375 -4.8125 C -1.710938 -5.207031 -2.195312 -5.40625 -2.8125 -5.40625 C -3.414062 -5.40625 -3.894531 -5.207031 -4.25 -4.8125 C -4.601562 -4.414062 -4.78125 -3.878906 -4.78125 -3.203125 C -4.78125 -2.890625 -4.742188 -2.570312 -4.671875 -2.25 C -4.609375 -1.9375 -4.503906 -1.617188 -4.359375 -1.296875 Z M -8.75 -1.296875 \"/>\n",
       "</symbol>\n",
       "<symbol overflow=\"visible\" id=\"glyph1-5\">\n",
       "<path style=\"stroke:none;\" d=\"M -4.84375 -3.96875 C -4.84375 -3.4375 -4.660156 -3.015625 -4.296875 -2.703125 C -3.929688 -2.390625 -3.4375 -2.234375 -2.8125 -2.234375 C -2.175781 -2.234375 -1.675781 -2.390625 -1.3125 -2.703125 C -0.945312 -3.015625 -0.765625 -3.4375 -0.765625 -3.96875 C -0.765625 -4.5 -0.945312 -4.914062 -1.3125 -5.21875 C -1.675781 -5.53125 -2.175781 -5.6875 -2.8125 -5.6875 C -3.4375 -5.6875 -3.929688 -5.53125 -4.296875 -5.21875 C -4.660156 -4.914062 -4.84375 -4.5 -4.84375 -3.96875 Z M -8.5625 -6.3125 L -7.484375 -6.3125 C -7.617188 -6.007812 -7.722656 -5.707031 -7.796875 -5.40625 C -7.867188 -5.101562 -7.90625 -4.804688 -7.90625 -4.515625 C -7.90625 -3.734375 -7.640625 -3.132812 -7.109375 -2.71875 C -6.585938 -2.3125 -5.796875 -2.078125 -4.734375 -2.015625 C -5.066406 -2.242188 -5.320312 -2.53125 -5.5 -2.875 C -5.6875 -3.226562 -5.78125 -3.613281 -5.78125 -4.03125 C -5.78125 -4.90625 -5.515625 -5.597656 -4.984375 -6.109375 C -4.453125 -6.617188 -3.726562 -6.875 -2.8125 -6.875 C -1.90625 -6.875 -1.179688 -6.609375 -0.640625 -6.078125 C -0.0976562 -5.546875 0.171875 -4.84375 0.171875 -3.96875 C 0.171875 -2.945312 -0.210938 -2.171875 -0.984375 -1.640625 C -1.765625 -1.109375 -2.890625 -0.84375 -4.359375 -0.84375 C -5.742188 -0.84375 -6.847656 -1.171875 -7.671875 -1.828125 C -8.492188 -2.484375 -8.90625 -3.363281 -8.90625 -4.46875 C -8.90625 -4.757812 -8.875 -5.054688 -8.8125 -5.359375 C -8.757812 -5.660156 -8.675781 -5.976562 -8.5625 -6.3125 Z M -8.5625 -6.3125 \"/>\n",
       "</symbol>\n",
       "<symbol overflow=\"visible\" id=\"glyph1-6\">\n",
       "<path style=\"stroke:none;\" d=\"M -8.75 -0.984375 L -8.75 -6.609375 L -8.25 -6.609375 L 0 -3.4375 L 0 -2.203125 L -7.75 -5.1875 L -7.75 -0.984375 Z M -8.75 -0.984375 \"/>\n",
       "</symbol>\n",
       "<symbol overflow=\"visible\" id=\"glyph1-7\">\n",
       "<path style=\"stroke:none;\" d=\"M -4.15625 -3.8125 C -4.15625 -3.25 -4.003906 -2.804688 -3.703125 -2.484375 C -3.398438 -2.160156 -2.988281 -2 -2.46875 -2 C -1.9375 -2 -1.519531 -2.160156 -1.21875 -2.484375 C -0.914062 -2.804688 -0.765625 -3.25 -0.765625 -3.8125 C -0.765625 -4.375 -0.914062 -4.816406 -1.21875 -5.140625 C -1.519531 -5.460938 -1.9375 -5.625 -2.46875 -5.625 C -2.988281 -5.625 -3.398438 -5.460938 -3.703125 -5.140625 C -4.003906 -4.828125 -4.15625 -4.382812 -4.15625 -3.8125 Z M -4.65625 -2.625 C -4.78125 -2.125 -5.015625 -1.726562 -5.359375 -1.4375 C -5.710938 -1.15625 -6.140625 -1.015625 -6.640625 -1.015625 C -7.335938 -1.015625 -7.890625 -1.265625 -8.296875 -1.765625 C -8.703125 -2.265625 -8.90625 -2.945312 -8.90625 -3.8125 C -8.90625 -4.6875 -8.703125 -5.367188 -8.296875 -5.859375 C -7.890625 -6.359375 -7.335938 -6.609375 -6.640625 -6.609375 C -6.140625 -6.609375 -5.710938 -6.46875 -5.359375 -6.1875 C -5.015625 -5.90625 -4.78125 -5.507812 -4.65625 -5 C -4.519531 -5.570312 -4.257812 -6.015625 -3.875 -6.328125 C -3.488281 -6.648438 -3.019531 -6.8125 -2.46875 -6.8125 C -1.613281 -6.8125 -0.957031 -6.550781 -0.5 -6.03125 C -0.0507812 -5.519531 0.171875 -4.78125 0.171875 -3.8125 C 0.171875 -2.851562 -0.0507812 -2.113281 -0.5 -1.59375 C -0.957031 -1.070312 -1.613281 -0.8125 -2.46875 -0.8125 C -3.019531 -0.8125 -3.488281 -0.972656 -3.875 -1.296875 C -4.257812 -1.617188 -4.519531 -2.0625 -4.65625 -2.625 Z M -6.53125 -2.203125 C -6.070312 -2.203125 -5.71875 -2.34375 -5.46875 -2.625 C -5.21875 -2.90625 -5.09375 -3.300781 -5.09375 -3.8125 C -5.09375 -4.320312 -5.21875 -4.71875 -5.46875 -5 C -5.71875 -5.289062 -6.070312 -5.4375 -6.53125 -5.4375 C -6.976562 -5.4375 -7.328125 -5.289062 -7.578125 -5 C -7.835938 -4.71875 -7.96875 -4.320312 -7.96875 -3.8125 C -7.96875 -3.300781 -7.835938 -2.90625 -7.578125 -2.625 C -7.328125 -2.34375 -6.976562 -2.203125 -6.53125 -2.203125 Z M -6.53125 -2.203125 \"/>\n",
       "</symbol>\n",
       "<symbol overflow=\"visible\" id=\"glyph1-8\">\n",
       "<path style=\"stroke:none;\" d=\"M -1 -1.484375 L -1 -3.421875 L -7.671875 -3.421875 L -7.25 -1.3125 L -8.328125 -1.3125 L -8.75 -3.40625 L -8.75 -4.59375 L -1 -4.59375 L -1 -6.53125 L 0 -6.53125 L 0 -1.484375 Z M -1 -1.484375 \"/>\n",
       "</symbol>\n",
       "<symbol overflow=\"visible\" id=\"glyph1-9\">\n",
       "<path style=\"stroke:none;\" d=\"M -7.96875 -3.8125 C -7.96875 -3.207031 -7.664062 -2.75 -7.0625 -2.4375 C -6.46875 -2.132812 -5.566406 -1.984375 -4.359375 -1.984375 C -3.160156 -1.984375 -2.257812 -2.132812 -1.65625 -2.4375 C -1.0625 -2.75 -0.765625 -3.207031 -0.765625 -3.8125 C -0.765625 -4.425781 -1.0625 -4.882812 -1.65625 -5.1875 C -2.257812 -5.5 -3.160156 -5.65625 -4.359375 -5.65625 C -5.566406 -5.65625 -6.46875 -5.5 -7.0625 -5.1875 C -7.664062 -4.882812 -7.96875 -4.425781 -7.96875 -3.8125 Z M -8.90625 -3.8125 C -8.90625 -4.789062 -8.515625 -5.539062 -7.734375 -6.0625 C -6.960938 -6.582031 -5.835938 -6.84375 -4.359375 -6.84375 C -2.890625 -6.84375 -1.765625 -6.582031 -0.984375 -6.0625 C -0.210938 -5.539062 0.171875 -4.789062 0.171875 -3.8125 C 0.171875 -2.832031 -0.210938 -2.082031 -0.984375 -1.5625 C -1.765625 -1.050781 -2.890625 -0.796875 -4.359375 -0.796875 C -5.835938 -0.796875 -6.960938 -1.050781 -7.734375 -1.5625 C -8.515625 -2.082031 -8.90625 -2.832031 -8.90625 -3.8125 Z M -8.90625 -3.8125 \"/>\n",
       "</symbol>\n",
       "<symbol overflow=\"visible\" id=\"glyph1-10\">\n",
       "<path style=\"stroke:none;\" d=\"M -6.3125 -5.859375 L -5.296875 -5.859375 C -5.472656 -5.546875 -5.601562 -5.238281 -5.6875 -4.9375 C -5.769531 -4.632812 -5.8125 -4.328125 -5.8125 -4.015625 C -5.8125 -3.304688 -5.585938 -2.757812 -5.140625 -2.375 C -4.703125 -1.988281 -4.082031 -1.796875 -3.28125 -1.796875 C -2.476562 -1.796875 -1.851562 -1.988281 -1.40625 -2.375 C -0.96875 -2.757812 -0.75 -3.304688 -0.75 -4.015625 C -0.75 -4.328125 -0.789062 -4.632812 -0.875 -4.9375 C -0.957031 -5.238281 -1.082031 -5.546875 -1.25 -5.859375 L -0.25 -5.859375 C -0.113281 -5.554688 -0.0078125 -5.242188 0.0625 -4.921875 C 0.132812 -4.597656 0.171875 -4.253906 0.171875 -3.890625 C 0.171875 -2.898438 -0.132812 -2.113281 -0.75 -1.53125 C -1.375 -0.945312 -2.21875 -0.65625 -3.28125 -0.65625 C -4.34375 -0.65625 -5.179688 -0.945312 -5.796875 -1.53125 C -6.410156 -2.125 -6.71875 -2.9375 -6.71875 -3.96875 C -6.71875 -4.289062 -6.679688 -4.609375 -6.609375 -4.921875 C -6.546875 -5.242188 -6.445312 -5.554688 -6.3125 -5.859375 Z M -6.3125 -5.859375 \"/>\n",
       "</symbol>\n",
       "<symbol overflow=\"visible\" id=\"glyph1-11\">\n",
       "<path style=\"stroke:none;\" d=\"M -5.8125 -3.671875 C -5.8125 -3.097656 -5.582031 -2.640625 -5.125 -2.296875 C -4.675781 -1.960938 -4.0625 -1.796875 -3.28125 -1.796875 C -2.488281 -1.796875 -1.867188 -1.960938 -1.421875 -2.296875 C -0.972656 -2.628906 -0.75 -3.085938 -0.75 -3.671875 C -0.75 -4.242188 -0.972656 -4.695312 -1.421875 -5.03125 C -1.878906 -5.375 -2.5 -5.546875 -3.28125 -5.546875 C -4.050781 -5.546875 -4.664062 -5.375 -5.125 -5.03125 C -5.582031 -4.695312 -5.8125 -4.242188 -5.8125 -3.671875 Z M -6.71875 -3.671875 C -6.71875 -4.609375 -6.410156 -5.34375 -5.796875 -5.875 C -5.191406 -6.414062 -4.351562 -6.6875 -3.28125 -6.6875 C -2.207031 -6.6875 -1.363281 -6.414062 -0.75 -5.875 C -0.132812 -5.34375 0.171875 -4.609375 0.171875 -3.671875 C 0.171875 -2.734375 -0.132812 -1.992188 -0.75 -1.453125 C -1.363281 -0.921875 -2.207031 -0.65625 -3.28125 -0.65625 C -4.351562 -0.65625 -5.191406 -0.921875 -5.796875 -1.453125 C -6.410156 -1.992188 -6.71875 -2.734375 -6.71875 -3.671875 Z M -6.71875 -3.671875 \"/>\n",
       "</symbol>\n",
       "<symbol overflow=\"visible\" id=\"glyph1-12\">\n",
       "<path style=\"stroke:none;\" d=\"M -2.59375 -1.015625 L -6.5625 -1.015625 L -6.5625 -2.09375 L -2.625 -2.09375 C -2.007812 -2.09375 -1.546875 -2.210938 -1.234375 -2.453125 C -0.921875 -2.703125 -0.765625 -3.066406 -0.765625 -3.546875 C -0.765625 -4.128906 -0.945312 -4.585938 -1.3125 -4.921875 C -1.6875 -5.265625 -2.195312 -5.4375 -2.84375 -5.4375 L -6.5625 -5.4375 L -6.5625 -6.515625 L 0 -6.515625 L 0 -5.4375 L -1.015625 -5.4375 C -0.609375 -5.175781 -0.304688 -4.875 -0.109375 -4.53125 C 0.078125 -4.1875 0.171875 -3.785156 0.171875 -3.328125 C 0.171875 -2.566406 -0.0625 -1.988281 -0.53125 -1.59375 C -1 -1.207031 -1.6875 -1.015625 -2.59375 -1.015625 Z M -6.71875 -3.734375 Z M -6.71875 -3.734375 \"/>\n",
       "</symbol>\n",
       "<symbol overflow=\"visible\" id=\"glyph1-13\">\n",
       "<path style=\"stroke:none;\" d=\"M -3.96875 -6.59375 L 0 -6.59375 L 0 -5.515625 L -3.921875 -5.515625 C -4.546875 -5.515625 -5.007812 -5.390625 -5.3125 -5.140625 C -5.625 -4.898438 -5.78125 -4.539062 -5.78125 -4.0625 C -5.78125 -3.476562 -5.59375 -3.015625 -5.21875 -2.671875 C -4.851562 -2.335938 -4.347656 -2.171875 -3.703125 -2.171875 L 0 -2.171875 L 0 -1.09375 L -6.5625 -1.09375 L -6.5625 -2.171875 L -5.546875 -2.171875 C -5.941406 -2.429688 -6.234375 -2.734375 -6.421875 -3.078125 C -6.617188 -3.429688 -6.71875 -3.835938 -6.71875 -4.296875 C -6.71875 -5.046875 -6.484375 -5.613281 -6.015625 -6 C -5.554688 -6.394531 -4.875 -6.59375 -3.96875 -6.59375 Z M -3.96875 -6.59375 \"/>\n",
       "</symbol>\n",
       "<symbol overflow=\"visible\" id=\"glyph1-14\">\n",
       "<path style=\"stroke:none;\" d=\"M -8.421875 -2.203125 L -6.5625 -2.203125 L -6.5625 -4.421875 L -5.71875 -4.421875 L -5.71875 -2.203125 L -2.15625 -2.203125 C -1.625 -2.203125 -1.28125 -2.273438 -1.125 -2.421875 C -0.976562 -2.566406 -0.90625 -2.863281 -0.90625 -3.3125 L -0.90625 -4.421875 L 0 -4.421875 L 0 -3.3125 C 0 -2.476562 -0.15625 -1.898438 -0.46875 -1.578125 C -0.78125 -1.265625 -1.34375 -1.109375 -2.15625 -1.109375 L -5.71875 -1.109375 L -5.71875 -0.328125 L -6.5625 -0.328125 L -6.5625 -1.109375 L -8.421875 -1.109375 Z M -8.421875 -2.203125 \"/>\n",
       "</symbol>\n",
       "<symbol overflow=\"visible\" id=\"glyph1-15\">\n",
       "<path style=\"stroke:none;\" d=\"M -6.375 -5.3125 L -5.34375 -5.3125 C -5.5 -5.007812 -5.613281 -4.691406 -5.6875 -4.359375 C -5.769531 -4.035156 -5.8125 -3.695312 -5.8125 -3.34375 C -5.8125 -2.8125 -5.726562 -2.410156 -5.5625 -2.140625 C -5.40625 -1.867188 -5.160156 -1.734375 -4.828125 -1.734375 C -4.578125 -1.734375 -4.378906 -1.828125 -4.234375 -2.015625 C -4.097656 -2.210938 -3.96875 -2.601562 -3.84375 -3.1875 L -3.75 -3.546875 C -3.59375 -4.316406 -3.363281 -4.863281 -3.0625 -5.1875 C -2.757812 -5.507812 -2.34375 -5.671875 -1.8125 -5.671875 C -1.195312 -5.671875 -0.710938 -5.425781 -0.359375 -4.9375 C -0.00390625 -4.457031 0.171875 -3.796875 0.171875 -2.953125 C 0.171875 -2.597656 0.132812 -2.226562 0.0625 -1.84375 C 0 -1.46875 -0.0976562 -1.070312 -0.234375 -0.65625 L -1.359375 -0.65625 C -1.148438 -1.050781 -0.992188 -1.441406 -0.890625 -1.828125 C -0.785156 -2.210938 -0.734375 -2.597656 -0.734375 -2.984375 C -0.734375 -3.484375 -0.816406 -3.867188 -0.984375 -4.140625 C -1.160156 -4.421875 -1.410156 -4.5625 -1.734375 -4.5625 C -2.023438 -4.5625 -2.25 -4.460938 -2.40625 -4.265625 C -2.5625 -4.066406 -2.710938 -3.632812 -2.859375 -2.96875 L -2.9375 -2.59375 C -3.082031 -1.925781 -3.300781 -1.441406 -3.59375 -1.140625 C -3.882812 -0.847656 -4.28125 -0.703125 -4.78125 -0.703125 C -5.40625 -0.703125 -5.882812 -0.921875 -6.21875 -1.359375 C -6.550781 -1.796875 -6.71875 -2.414062 -6.71875 -3.21875 C -6.71875 -3.613281 -6.6875 -3.988281 -6.625 -4.34375 C -6.570312 -4.695312 -6.488281 -5.019531 -6.375 -5.3125 Z M -6.375 -5.3125 \"/>\n",
       "</symbol>\n",
       "</g>\n",
       "<clipPath id=\"clip1\">\n",
       "  <path d=\"M 74 72 L 75 72 L 75 431.558594 L 74 431.558594 Z M 74 72 \"/>\n",
       "</clipPath>\n",
       "<clipPath id=\"clip2\">\n",
       "  <path d=\"M 170 170 L 171 170 L 171 431.558594 L 170 431.558594 Z M 170 170 \"/>\n",
       "</clipPath>\n",
       "<clipPath id=\"clip3\">\n",
       "  <path d=\"M 266 268 L 267 268 L 267 431.558594 L 266 431.558594 Z M 266 268 \"/>\n",
       "</clipPath>\n",
       "<clipPath id=\"clip4\">\n",
       "  <path d=\"M 362 416 L 363 416 L 363 431.558594 L 362 431.558594 Z M 362 416 \"/>\n",
       "</clipPath>\n",
       "<clipPath id=\"clip5\">\n",
       "  <path d=\"M 458 367 L 459 367 L 459 431.558594 L 458 431.558594 Z M 458 367 \"/>\n",
       "</clipPath>\n",
       "</defs>\n",
       "<g id=\"surface36\">\n",
       "<rect x=\"0\" y=\"0\" width=\"504\" height=\"504\" style=\"fill:rgb(100%,100%,100%);fill-opacity:1;stroke:none;\"/>\n",
       "<g clip-path=\"url(#clip1)\" clip-rule=\"nonzero\">\n",
       "<path style=\"fill:none;stroke-width:0.75;stroke-linecap:round;stroke-linejoin:round;stroke:rgb(0%,0%,0%);stroke-opacity:1;stroke-miterlimit:10;\" d=\"M 74.398438 504 L 74.398438 72.800781 \"/>\n",
       "</g>\n",
       "<g clip-path=\"url(#clip2)\" clip-rule=\"nonzero\">\n",
       "<path style=\"fill:none;stroke-width:0.75;stroke-linecap:round;stroke-linejoin:round;stroke:rgb(0%,0%,0%);stroke-opacity:1;stroke-miterlimit:10;\" d=\"M 170.398438 504 L 170.398438 171.085938 \"/>\n",
       "</g>\n",
       "<g clip-path=\"url(#clip3)\" clip-rule=\"nonzero\">\n",
       "<path style=\"fill:none;stroke-width:0.75;stroke-linecap:round;stroke-linejoin:round;stroke:rgb(0%,0%,0%);stroke-opacity:1;stroke-miterlimit:10;\" d=\"M 266.398438 504 L 266.398438 269.371094 \"/>\n",
       "</g>\n",
       "<g clip-path=\"url(#clip4)\" clip-rule=\"nonzero\">\n",
       "<path style=\"fill:none;stroke-width:0.75;stroke-linecap:round;stroke-linejoin:round;stroke:rgb(0%,0%,0%);stroke-opacity:1;stroke-miterlimit:10;\" d=\"M 362.398438 504 L 362.398438 416.800781 \"/>\n",
       "</g>\n",
       "<g clip-path=\"url(#clip5)\" clip-rule=\"nonzero\">\n",
       "<path style=\"fill:none;stroke-width:0.75;stroke-linecap:round;stroke-linejoin:round;stroke:rgb(0%,0%,0%);stroke-opacity:1;stroke-miterlimit:10;\" d=\"M 458.398438 504 L 458.398438 367.65625 \"/>\n",
       "</g>\n",
       "<path style=\"fill:none;stroke-width:0.75;stroke-linecap:round;stroke-linejoin:round;stroke:rgb(0%,0%,0%);stroke-opacity:1;stroke-miterlimit:10;\" d=\"M 74.398438 430.558594 L 458.398438 430.558594 \"/>\n",
       "<path style=\"fill:none;stroke-width:0.75;stroke-linecap:round;stroke-linejoin:round;stroke:rgb(0%,0%,0%);stroke-opacity:1;stroke-miterlimit:10;\" d=\"M 74.398438 430.558594 L 74.398438 437.761719 \"/>\n",
       "<path style=\"fill:none;stroke-width:0.75;stroke-linecap:round;stroke-linejoin:round;stroke:rgb(0%,0%,0%);stroke-opacity:1;stroke-miterlimit:10;\" d=\"M 170.398438 430.558594 L 170.398438 437.761719 \"/>\n",
       "<path style=\"fill:none;stroke-width:0.75;stroke-linecap:round;stroke-linejoin:round;stroke:rgb(0%,0%,0%);stroke-opacity:1;stroke-miterlimit:10;\" d=\"M 266.398438 430.558594 L 266.398438 437.761719 \"/>\n",
       "<path style=\"fill:none;stroke-width:0.75;stroke-linecap:round;stroke-linejoin:round;stroke:rgb(0%,0%,0%);stroke-opacity:1;stroke-miterlimit:10;\" d=\"M 362.398438 430.558594 L 362.398438 437.761719 \"/>\n",
       "<path style=\"fill:none;stroke-width:0.75;stroke-linecap:round;stroke-linejoin:round;stroke:rgb(0%,0%,0%);stroke-opacity:1;stroke-miterlimit:10;\" d=\"M 458.398438 430.558594 L 458.398438 437.761719 \"/>\n",
       "<g style=\"fill:rgb(0%,0%,0%);fill-opacity:1;\">\n",
       "  <use xlink:href=\"#glyph0-1\" x=\"70.398438\" y=\"455.619141\"/>\n",
       "</g>\n",
       "<g style=\"fill:rgb(0%,0%,0%);fill-opacity:1;\">\n",
       "  <use xlink:href=\"#glyph0-1\" x=\"162.398438\" y=\"455.619141\"/>\n",
       "  <use xlink:href=\"#glyph0-2\" x=\"170.033203\" y=\"455.619141\"/>\n",
       "</g>\n",
       "<g style=\"fill:rgb(0%,0%,0%);fill-opacity:1;\">\n",
       "  <use xlink:href=\"#glyph0-1\" x=\"254.898438\" y=\"455.619141\"/>\n",
       "  <use xlink:href=\"#glyph0-2\" x=\"262.533203\" y=\"455.619141\"/>\n",
       "  <use xlink:href=\"#glyph0-2\" x=\"270.167969\" y=\"455.619141\"/>\n",
       "</g>\n",
       "<g style=\"fill:rgb(0%,0%,0%);fill-opacity:1;\">\n",
       "  <use xlink:href=\"#glyph0-1\" x=\"346.898438\" y=\"455.619141\"/>\n",
       "  <use xlink:href=\"#glyph0-2\" x=\"354.533203\" y=\"455.619141\"/>\n",
       "  <use xlink:href=\"#glyph0-2\" x=\"362.167969\" y=\"455.619141\"/>\n",
       "  <use xlink:href=\"#glyph0-2\" x=\"369.802734\" y=\"455.619141\"/>\n",
       "</g>\n",
       "<g style=\"fill:rgb(0%,0%,0%);fill-opacity:1;\">\n",
       "  <use xlink:href=\"#glyph0-1\" x=\"438.898438\" y=\"455.619141\"/>\n",
       "  <use xlink:href=\"#glyph0-2\" x=\"446.533203\" y=\"455.619141\"/>\n",
       "  <use xlink:href=\"#glyph0-2\" x=\"454.167969\" y=\"455.619141\"/>\n",
       "  <use xlink:href=\"#glyph0-2\" x=\"461.802734\" y=\"455.619141\"/>\n",
       "  <use xlink:href=\"#glyph0-2\" x=\"469.4375\" y=\"455.619141\"/>\n",
       "</g>\n",
       "<path style=\"fill:none;stroke-width:0.75;stroke-linecap:round;stroke-linejoin:round;stroke:rgb(0%,0%,0%);stroke-opacity:1;stroke-miterlimit:10;\" d=\"M 59.039062 416.800781 L 59.039062 72.800781 \"/>\n",
       "<path style=\"fill:none;stroke-width:0.75;stroke-linecap:round;stroke-linejoin:round;stroke:rgb(0%,0%,0%);stroke-opacity:1;stroke-miterlimit:10;\" d=\"M 59.039062 416.800781 L 51.839844 416.800781 \"/>\n",
       "<path style=\"fill:none;stroke-width:0.75;stroke-linecap:round;stroke-linejoin:round;stroke:rgb(0%,0%,0%);stroke-opacity:1;stroke-miterlimit:10;\" d=\"M 59.039062 367.65625 L 51.839844 367.65625 \"/>\n",
       "<path style=\"fill:none;stroke-width:0.75;stroke-linecap:round;stroke-linejoin:round;stroke:rgb(0%,0%,0%);stroke-opacity:1;stroke-miterlimit:10;\" d=\"M 59.039062 318.515625 L 51.839844 318.515625 \"/>\n",
       "<path style=\"fill:none;stroke-width:0.75;stroke-linecap:round;stroke-linejoin:round;stroke:rgb(0%,0%,0%);stroke-opacity:1;stroke-miterlimit:10;\" d=\"M 59.039062 269.371094 L 51.839844 269.371094 \"/>\n",
       "<path style=\"fill:none;stroke-width:0.75;stroke-linecap:round;stroke-linejoin:round;stroke:rgb(0%,0%,0%);stroke-opacity:1;stroke-miterlimit:10;\" d=\"M 59.039062 220.230469 L 51.839844 220.230469 \"/>\n",
       "<path style=\"fill:none;stroke-width:0.75;stroke-linecap:round;stroke-linejoin:round;stroke:rgb(0%,0%,0%);stroke-opacity:1;stroke-miterlimit:10;\" d=\"M 59.039062 171.085938 L 51.839844 171.085938 \"/>\n",
       "<path style=\"fill:none;stroke-width:0.75;stroke-linecap:round;stroke-linejoin:round;stroke:rgb(0%,0%,0%);stroke-opacity:1;stroke-miterlimit:10;\" d=\"M 59.039062 121.941406 L 51.839844 121.941406 \"/>\n",
       "<path style=\"fill:none;stroke-width:0.75;stroke-linecap:round;stroke-linejoin:round;stroke:rgb(0%,0%,0%);stroke-opacity:1;stroke-miterlimit:10;\" d=\"M 59.039062 72.800781 L 51.839844 72.800781 \"/>\n",
       "<g style=\"fill:rgb(0%,0%,0%);fill-opacity:1;\">\n",
       "  <use xlink:href=\"#glyph1-1\" x=\"40.900391\" y=\"428.300781\"/>\n",
       "  <use xlink:href=\"#glyph1-1\" x=\"40.900391\" y=\"420.666016\"/>\n",
       "  <use xlink:href=\"#glyph1-2\" x=\"40.900391\" y=\"413.03125\"/>\n",
       "</g>\n",
       "<g style=\"fill:rgb(0%,0%,0%);fill-opacity:1;\">\n",
       "  <use xlink:href=\"#glyph1-1\" x=\"40.900391\" y=\"379.15625\"/>\n",
       "  <use xlink:href=\"#glyph1-1\" x=\"40.900391\" y=\"371.521484\"/>\n",
       "  <use xlink:href=\"#glyph1-3\" x=\"40.900391\" y=\"363.886719\"/>\n",
       "</g>\n",
       "<g style=\"fill:rgb(0%,0%,0%);fill-opacity:1;\">\n",
       "  <use xlink:href=\"#glyph1-1\" x=\"40.900391\" y=\"330.015625\"/>\n",
       "  <use xlink:href=\"#glyph1-1\" x=\"40.900391\" y=\"322.380859\"/>\n",
       "  <use xlink:href=\"#glyph1-4\" x=\"40.900391\" y=\"314.746094\"/>\n",
       "</g>\n",
       "<g style=\"fill:rgb(0%,0%,0%);fill-opacity:1;\">\n",
       "  <use xlink:href=\"#glyph1-1\" x=\"40.900391\" y=\"280.871094\"/>\n",
       "  <use xlink:href=\"#glyph1-1\" x=\"40.900391\" y=\"273.236328\"/>\n",
       "  <use xlink:href=\"#glyph1-5\" x=\"40.900391\" y=\"265.601562\"/>\n",
       "</g>\n",
       "<g style=\"fill:rgb(0%,0%,0%);fill-opacity:1;\">\n",
       "  <use xlink:href=\"#glyph1-1\" x=\"40.900391\" y=\"231.730469\"/>\n",
       "  <use xlink:href=\"#glyph1-1\" x=\"40.900391\" y=\"224.095703\"/>\n",
       "  <use xlink:href=\"#glyph1-6\" x=\"40.900391\" y=\"216.460938\"/>\n",
       "</g>\n",
       "<g style=\"fill:rgb(0%,0%,0%);fill-opacity:1;\">\n",
       "  <use xlink:href=\"#glyph1-1\" x=\"40.900391\" y=\"182.585938\"/>\n",
       "  <use xlink:href=\"#glyph1-1\" x=\"40.900391\" y=\"174.951172\"/>\n",
       "  <use xlink:href=\"#glyph1-7\" x=\"40.900391\" y=\"167.316406\"/>\n",
       "</g>\n",
       "<g style=\"fill:rgb(0%,0%,0%);fill-opacity:1;\">\n",
       "  <use xlink:href=\"#glyph1-1\" x=\"40.900391\" y=\"133.441406\"/>\n",
       "  <use xlink:href=\"#glyph1-1\" x=\"40.900391\" y=\"125.806641\"/>\n",
       "  <use xlink:href=\"#glyph1-1\" x=\"40.900391\" y=\"118.171875\"/>\n",
       "</g>\n",
       "<g style=\"fill:rgb(0%,0%,0%);fill-opacity:1;\">\n",
       "  <use xlink:href=\"#glyph1-8\" x=\"40.900391\" y=\"88.300781\"/>\n",
       "  <use xlink:href=\"#glyph1-9\" x=\"40.900391\" y=\"80.666016\"/>\n",
       "  <use xlink:href=\"#glyph1-9\" x=\"40.900391\" y=\"73.03125\"/>\n",
       "  <use xlink:href=\"#glyph1-9\" x=\"40.900391\" y=\"65.396484\"/>\n",
       "</g>\n",
       "<path style=\"fill:none;stroke-width:0.75;stroke-linecap:round;stroke-linejoin:round;stroke:rgb(0%,0%,0%);stroke-opacity:1;stroke-miterlimit:10;\" d=\"M 59.039062 430.558594 L 473.761719 430.558594 L 473.761719 59.039062 L 59.039062 59.039062 L 59.039062 430.558594 \"/>\n",
       "<g style=\"fill:rgb(0%,0%,0%);fill-opacity:1;\">\n",
       "  <use xlink:href=\"#glyph0-3\" x=\"259.398438\" y=\"484.419922\"/>\n",
       "  <use xlink:href=\"#glyph0-4\" x=\"267.003906\" y=\"484.419922\"/>\n",
       "</g>\n",
       "<g style=\"fill:rgb(0%,0%,0%);fill-opacity:1;\">\n",
       "  <use xlink:href=\"#glyph1-10\" x=\"12.099609\" y=\"265.300781\"/>\n",
       "  <use xlink:href=\"#glyph1-11\" x=\"12.099609\" y=\"258.703125\"/>\n",
       "  <use xlink:href=\"#glyph1-12\" x=\"12.099609\" y=\"251.361328\"/>\n",
       "  <use xlink:href=\"#glyph1-13\" x=\"12.099609\" y=\"243.755859\"/>\n",
       "  <use xlink:href=\"#glyph1-14\" x=\"12.099609\" y=\"236.150391\"/>\n",
       "  <use xlink:href=\"#glyph1-15\" x=\"12.099609\" y=\"231.445312\"/>\n",
       "</g>\n",
       "</g>\n",
       "</svg>\n"
      ],
      "text/plain": [
       "plot without title"
      ]
     },
     "metadata": {
      "image/svg+xml": {
       "isolated": true
      }
     },
     "output_type": "display_data"
    }
   ],
   "source": [
    "plot(ns, counts, log=\"x\", type=\"h\")"
   ]
  },
  {
   "cell_type": "code",
   "execution_count": null,
   "metadata": {
    "collapsed": true
   },
   "outputs": [],
   "source": []
  }
 ],
 "metadata": {
  "kernelspec": {
   "display_name": "R",
   "language": "R",
   "name": "ir"
  },
  "language_info": {
   "codemirror_mode": "r",
   "file_extension": ".r",
   "mimetype": "text/x-r-source",
   "name": "R",
   "pygments_lexer": "r",
   "version": "3.2.3"
  }
 },
 "nbformat": 4,
 "nbformat_minor": 0
}
